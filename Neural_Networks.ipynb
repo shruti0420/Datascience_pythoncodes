{
  "nbformat": 4,
  "nbformat_minor": 0,
  "metadata": {
    "colab": {
      "name": "Neural Networks.ipynb",
      "provenance": [],
      "collapsed_sections": []
    },
    "kernelspec": {
      "name": "python3",
      "display_name": "Python 3"
    },
    "language_info": {
      "name": "python"
    }
  },
  "cells": [
    {
      "cell_type": "markdown",
      "metadata": {
        "id": "aat-AA3U2ibj"
      },
      "source": [
        "# **FORESTFIRES**"
      ]
    },
    {
      "cell_type": "code",
      "metadata": {
        "id": "-M_ybyqqJXhk",
        "colab": {
          "base_uri": "https://localhost:8080/"
        },
        "outputId": "31e6ab35-8544-4c84-b36b-69aaa09175bf"
      },
      "source": [
        "!pip install tensorflow"
      ],
      "execution_count": 51,
      "outputs": [
        {
          "output_type": "stream",
          "text": [
            "Requirement already satisfied: tensorflow in /usr/local/lib/python3.7/dist-packages (2.5.0)\n",
            "Requirement already satisfied: wrapt~=1.12.1 in /usr/local/lib/python3.7/dist-packages (from tensorflow) (1.12.1)\n",
            "Requirement already satisfied: termcolor~=1.1.0 in /usr/local/lib/python3.7/dist-packages (from tensorflow) (1.1.0)\n",
            "Requirement already satisfied: six~=1.15.0 in /usr/local/lib/python3.7/dist-packages (from tensorflow) (1.15.0)\n",
            "Requirement already satisfied: google-pasta~=0.2 in /usr/local/lib/python3.7/dist-packages (from tensorflow) (0.2.0)\n",
            "Requirement already satisfied: gast==0.4.0 in /usr/local/lib/python3.7/dist-packages (from tensorflow) (0.4.0)\n",
            "Requirement already satisfied: astunparse~=1.6.3 in /usr/local/lib/python3.7/dist-packages (from tensorflow) (1.6.3)\n",
            "Requirement already satisfied: keras-preprocessing~=1.1.2 in /usr/local/lib/python3.7/dist-packages (from tensorflow) (1.1.2)\n",
            "Requirement already satisfied: absl-py~=0.10 in /usr/local/lib/python3.7/dist-packages (from tensorflow) (0.12.0)\n",
            "Requirement already satisfied: grpcio~=1.34.0 in /usr/local/lib/python3.7/dist-packages (from tensorflow) (1.34.1)\n",
            "Requirement already satisfied: h5py~=3.1.0 in /usr/local/lib/python3.7/dist-packages (from tensorflow) (3.1.0)\n",
            "Requirement already satisfied: tensorboard~=2.5 in /usr/local/lib/python3.7/dist-packages (from tensorflow) (2.5.0)\n",
            "Requirement already satisfied: keras-nightly~=2.5.0.dev in /usr/local/lib/python3.7/dist-packages (from tensorflow) (2.5.0.dev2021032900)\n",
            "Requirement already satisfied: flatbuffers~=1.12.0 in /usr/local/lib/python3.7/dist-packages (from tensorflow) (1.12)\n",
            "Requirement already satisfied: numpy~=1.19.2 in /usr/local/lib/python3.7/dist-packages (from tensorflow) (1.19.5)\n",
            "Requirement already satisfied: wheel~=0.35 in /usr/local/lib/python3.7/dist-packages (from tensorflow) (0.36.2)\n",
            "Requirement already satisfied: opt-einsum~=3.3.0 in /usr/local/lib/python3.7/dist-packages (from tensorflow) (3.3.0)\n",
            "Requirement already satisfied: typing-extensions~=3.7.4 in /usr/local/lib/python3.7/dist-packages (from tensorflow) (3.7.4.3)\n",
            "Requirement already satisfied: protobuf>=3.9.2 in /usr/local/lib/python3.7/dist-packages (from tensorflow) (3.12.4)\n",
            "Requirement already satisfied: tensorflow-estimator<2.6.0,>=2.5.0rc0 in /usr/local/lib/python3.7/dist-packages (from tensorflow) (2.5.0)\n",
            "Requirement already satisfied: cached-property; python_version < \"3.8\" in /usr/local/lib/python3.7/dist-packages (from h5py~=3.1.0->tensorflow) (1.5.2)\n",
            "Requirement already satisfied: setuptools>=41.0.0 in /usr/local/lib/python3.7/dist-packages (from tensorboard~=2.5->tensorflow) (57.0.0)\n",
            "Requirement already satisfied: requests<3,>=2.21.0 in /usr/local/lib/python3.7/dist-packages (from tensorboard~=2.5->tensorflow) (2.23.0)\n",
            "Requirement already satisfied: markdown>=2.6.8 in /usr/local/lib/python3.7/dist-packages (from tensorboard~=2.5->tensorflow) (3.3.4)\n",
            "Requirement already satisfied: google-auth-oauthlib<0.5,>=0.4.1 in /usr/local/lib/python3.7/dist-packages (from tensorboard~=2.5->tensorflow) (0.4.4)\n",
            "Requirement already satisfied: tensorboard-plugin-wit>=1.6.0 in /usr/local/lib/python3.7/dist-packages (from tensorboard~=2.5->tensorflow) (1.8.0)\n",
            "Requirement already satisfied: werkzeug>=0.11.15 in /usr/local/lib/python3.7/dist-packages (from tensorboard~=2.5->tensorflow) (1.0.1)\n",
            "Requirement already satisfied: tensorboard-data-server<0.7.0,>=0.6.0 in /usr/local/lib/python3.7/dist-packages (from tensorboard~=2.5->tensorflow) (0.6.1)\n",
            "Requirement already satisfied: google-auth<2,>=1.6.3 in /usr/local/lib/python3.7/dist-packages (from tensorboard~=2.5->tensorflow) (1.31.0)\n",
            "Requirement already satisfied: certifi>=2017.4.17 in /usr/local/lib/python3.7/dist-packages (from requests<3,>=2.21.0->tensorboard~=2.5->tensorflow) (2021.5.30)\n",
            "Requirement already satisfied: idna<3,>=2.5 in /usr/local/lib/python3.7/dist-packages (from requests<3,>=2.21.0->tensorboard~=2.5->tensorflow) (2.10)\n",
            "Requirement already satisfied: chardet<4,>=3.0.2 in /usr/local/lib/python3.7/dist-packages (from requests<3,>=2.21.0->tensorboard~=2.5->tensorflow) (3.0.4)\n",
            "Requirement already satisfied: urllib3!=1.25.0,!=1.25.1,<1.26,>=1.21.1 in /usr/local/lib/python3.7/dist-packages (from requests<3,>=2.21.0->tensorboard~=2.5->tensorflow) (1.24.3)\n",
            "Requirement already satisfied: importlib-metadata; python_version < \"3.8\" in /usr/local/lib/python3.7/dist-packages (from markdown>=2.6.8->tensorboard~=2.5->tensorflow) (4.5.0)\n",
            "Requirement already satisfied: requests-oauthlib>=0.7.0 in /usr/local/lib/python3.7/dist-packages (from google-auth-oauthlib<0.5,>=0.4.1->tensorboard~=2.5->tensorflow) (1.3.0)\n",
            "Requirement already satisfied: rsa<5,>=3.1.4; python_version >= \"3.6\" in /usr/local/lib/python3.7/dist-packages (from google-auth<2,>=1.6.3->tensorboard~=2.5->tensorflow) (4.7.2)\n",
            "Requirement already satisfied: pyasn1-modules>=0.2.1 in /usr/local/lib/python3.7/dist-packages (from google-auth<2,>=1.6.3->tensorboard~=2.5->tensorflow) (0.2.8)\n",
            "Requirement already satisfied: cachetools<5.0,>=2.0.0 in /usr/local/lib/python3.7/dist-packages (from google-auth<2,>=1.6.3->tensorboard~=2.5->tensorflow) (4.2.2)\n",
            "Requirement already satisfied: zipp>=0.5 in /usr/local/lib/python3.7/dist-packages (from importlib-metadata; python_version < \"3.8\"->markdown>=2.6.8->tensorboard~=2.5->tensorflow) (3.4.1)\n",
            "Requirement already satisfied: oauthlib>=3.0.0 in /usr/local/lib/python3.7/dist-packages (from requests-oauthlib>=0.7.0->google-auth-oauthlib<0.5,>=0.4.1->tensorboard~=2.5->tensorflow) (3.1.1)\n",
            "Requirement already satisfied: pyasn1>=0.1.3 in /usr/local/lib/python3.7/dist-packages (from rsa<5,>=3.1.4; python_version >= \"3.6\"->google-auth<2,>=1.6.3->tensorboard~=2.5->tensorflow) (0.4.8)\n"
          ],
          "name": "stdout"
        }
      ]
    },
    {
      "cell_type": "code",
      "metadata": {
        "colab": {
          "base_uri": "https://localhost:8080/"
        },
        "id": "DaAzbVoBxlXW",
        "outputId": "9cbac284-6fde-449d-918c-27efccf5a294"
      },
      "source": [
        "!pip install keras"
      ],
      "execution_count": 52,
      "outputs": [
        {
          "output_type": "stream",
          "text": [
            "Requirement already satisfied: keras in /usr/local/lib/python3.7/dist-packages (2.4.3)\n",
            "Requirement already satisfied: pyyaml in /usr/local/lib/python3.7/dist-packages (from keras) (3.13)\n",
            "Requirement already satisfied: h5py in /usr/local/lib/python3.7/dist-packages (from keras) (3.1.0)\n",
            "Requirement already satisfied: numpy>=1.9.1 in /usr/local/lib/python3.7/dist-packages (from keras) (1.19.5)\n",
            "Requirement already satisfied: scipy>=0.14 in /usr/local/lib/python3.7/dist-packages (from keras) (1.4.1)\n",
            "Requirement already satisfied: cached-property; python_version < \"3.8\" in /usr/local/lib/python3.7/dist-packages (from h5py->keras) (1.5.2)\n"
          ],
          "name": "stdout"
        }
      ]
    },
    {
      "cell_type": "code",
      "metadata": {
        "id": "qWqjMzsRxlpW"
      },
      "source": [
        "from keras.models import Sequential\n",
        "from keras.layers import Dense\n",
        "import pandas as pd\n",
        "import numpy as np\n"
      ],
      "execution_count": 53,
      "outputs": []
    },
    {
      "cell_type": "code",
      "metadata": {
        "id": "WZW1XW0PxrG4"
      },
      "source": [
        "forestfire=pd.read_csv('/content/forestfires.csv')"
      ],
      "execution_count": 54,
      "outputs": []
    },
    {
      "cell_type": "code",
      "metadata": {
        "id": "fkjhdUTHxrTt"
      },
      "source": [
        "\n",
        "forestfire.drop([\"month\",\"day\"],axis=1,inplace = True)"
      ],
      "execution_count": 55,
      "outputs": []
    },
    {
      "cell_type": "code",
      "metadata": {
        "colab": {
          "base_uri": "https://localhost:8080/",
          "height": 314
        },
        "id": "yB9a4yFezWLW",
        "outputId": "1884a68d-3455-4d4b-ff37-a77759d16b18"
      },
      "source": [
        "forestfire[\"size_category\"].value_counts()\n",
        "forestfire.isnull().sum()\n",
        "forestfire.describe()"
      ],
      "execution_count": 56,
      "outputs": [
        {
          "output_type": "execute_result",
          "data": {
            "text/html": [
              "<div>\n",
              "<style scoped>\n",
              "    .dataframe tbody tr th:only-of-type {\n",
              "        vertical-align: middle;\n",
              "    }\n",
              "\n",
              "    .dataframe tbody tr th {\n",
              "        vertical-align: top;\n",
              "    }\n",
              "\n",
              "    .dataframe thead th {\n",
              "        text-align: right;\n",
              "    }\n",
              "</style>\n",
              "<table border=\"1\" class=\"dataframe\">\n",
              "  <thead>\n",
              "    <tr style=\"text-align: right;\">\n",
              "      <th></th>\n",
              "      <th>FFMC</th>\n",
              "      <th>DMC</th>\n",
              "      <th>DC</th>\n",
              "      <th>ISI</th>\n",
              "      <th>temp</th>\n",
              "      <th>RH</th>\n",
              "      <th>wind</th>\n",
              "      <th>rain</th>\n",
              "      <th>area</th>\n",
              "      <th>dayfri</th>\n",
              "      <th>daymon</th>\n",
              "      <th>daysat</th>\n",
              "      <th>daysun</th>\n",
              "      <th>daythu</th>\n",
              "      <th>daytue</th>\n",
              "      <th>daywed</th>\n",
              "      <th>monthapr</th>\n",
              "      <th>monthaug</th>\n",
              "      <th>monthdec</th>\n",
              "      <th>monthfeb</th>\n",
              "      <th>monthjan</th>\n",
              "      <th>monthjul</th>\n",
              "      <th>monthjun</th>\n",
              "      <th>monthmar</th>\n",
              "      <th>monthmay</th>\n",
              "      <th>monthnov</th>\n",
              "      <th>monthoct</th>\n",
              "      <th>monthsep</th>\n",
              "    </tr>\n",
              "  </thead>\n",
              "  <tbody>\n",
              "    <tr>\n",
              "      <th>count</th>\n",
              "      <td>517.000000</td>\n",
              "      <td>517.000000</td>\n",
              "      <td>517.000000</td>\n",
              "      <td>517.000000</td>\n",
              "      <td>517.000000</td>\n",
              "      <td>517.000000</td>\n",
              "      <td>517.000000</td>\n",
              "      <td>517.000000</td>\n",
              "      <td>517.000000</td>\n",
              "      <td>517.000000</td>\n",
              "      <td>517.000000</td>\n",
              "      <td>517.000000</td>\n",
              "      <td>517.000000</td>\n",
              "      <td>517.000000</td>\n",
              "      <td>517.000000</td>\n",
              "      <td>517.000000</td>\n",
              "      <td>517.000000</td>\n",
              "      <td>517.000000</td>\n",
              "      <td>517.000000</td>\n",
              "      <td>517.000000</td>\n",
              "      <td>517.000000</td>\n",
              "      <td>517.000000</td>\n",
              "      <td>517.000000</td>\n",
              "      <td>517.000000</td>\n",
              "      <td>517.000000</td>\n",
              "      <td>517.000000</td>\n",
              "      <td>517.000000</td>\n",
              "      <td>517.000000</td>\n",
              "    </tr>\n",
              "    <tr>\n",
              "      <th>mean</th>\n",
              "      <td>90.644681</td>\n",
              "      <td>110.872340</td>\n",
              "      <td>547.940039</td>\n",
              "      <td>9.021663</td>\n",
              "      <td>18.889168</td>\n",
              "      <td>44.288201</td>\n",
              "      <td>4.017602</td>\n",
              "      <td>0.021663</td>\n",
              "      <td>12.847292</td>\n",
              "      <td>0.164410</td>\n",
              "      <td>0.143133</td>\n",
              "      <td>0.162476</td>\n",
              "      <td>0.183752</td>\n",
              "      <td>0.117988</td>\n",
              "      <td>0.123791</td>\n",
              "      <td>0.104449</td>\n",
              "      <td>0.017408</td>\n",
              "      <td>0.355899</td>\n",
              "      <td>0.017408</td>\n",
              "      <td>0.038685</td>\n",
              "      <td>0.003868</td>\n",
              "      <td>0.061896</td>\n",
              "      <td>0.032882</td>\n",
              "      <td>0.104449</td>\n",
              "      <td>0.003868</td>\n",
              "      <td>0.001934</td>\n",
              "      <td>0.029014</td>\n",
              "      <td>0.332689</td>\n",
              "    </tr>\n",
              "    <tr>\n",
              "      <th>std</th>\n",
              "      <td>5.520111</td>\n",
              "      <td>64.046482</td>\n",
              "      <td>248.066192</td>\n",
              "      <td>4.559477</td>\n",
              "      <td>5.806625</td>\n",
              "      <td>16.317469</td>\n",
              "      <td>1.791653</td>\n",
              "      <td>0.295959</td>\n",
              "      <td>63.655818</td>\n",
              "      <td>0.371006</td>\n",
              "      <td>0.350548</td>\n",
              "      <td>0.369244</td>\n",
              "      <td>0.387657</td>\n",
              "      <td>0.322907</td>\n",
              "      <td>0.329662</td>\n",
              "      <td>0.306138</td>\n",
              "      <td>0.130913</td>\n",
              "      <td>0.479249</td>\n",
              "      <td>0.130913</td>\n",
              "      <td>0.193029</td>\n",
              "      <td>0.062137</td>\n",
              "      <td>0.241199</td>\n",
              "      <td>0.178500</td>\n",
              "      <td>0.306138</td>\n",
              "      <td>0.062137</td>\n",
              "      <td>0.043980</td>\n",
              "      <td>0.168007</td>\n",
              "      <td>0.471632</td>\n",
              "    </tr>\n",
              "    <tr>\n",
              "      <th>min</th>\n",
              "      <td>18.700000</td>\n",
              "      <td>1.100000</td>\n",
              "      <td>7.900000</td>\n",
              "      <td>0.000000</td>\n",
              "      <td>2.200000</td>\n",
              "      <td>15.000000</td>\n",
              "      <td>0.400000</td>\n",
              "      <td>0.000000</td>\n",
              "      <td>0.000000</td>\n",
              "      <td>0.000000</td>\n",
              "      <td>0.000000</td>\n",
              "      <td>0.000000</td>\n",
              "      <td>0.000000</td>\n",
              "      <td>0.000000</td>\n",
              "      <td>0.000000</td>\n",
              "      <td>0.000000</td>\n",
              "      <td>0.000000</td>\n",
              "      <td>0.000000</td>\n",
              "      <td>0.000000</td>\n",
              "      <td>0.000000</td>\n",
              "      <td>0.000000</td>\n",
              "      <td>0.000000</td>\n",
              "      <td>0.000000</td>\n",
              "      <td>0.000000</td>\n",
              "      <td>0.000000</td>\n",
              "      <td>0.000000</td>\n",
              "      <td>0.000000</td>\n",
              "      <td>0.000000</td>\n",
              "    </tr>\n",
              "    <tr>\n",
              "      <th>25%</th>\n",
              "      <td>90.200000</td>\n",
              "      <td>68.600000</td>\n",
              "      <td>437.700000</td>\n",
              "      <td>6.500000</td>\n",
              "      <td>15.500000</td>\n",
              "      <td>33.000000</td>\n",
              "      <td>2.700000</td>\n",
              "      <td>0.000000</td>\n",
              "      <td>0.000000</td>\n",
              "      <td>0.000000</td>\n",
              "      <td>0.000000</td>\n",
              "      <td>0.000000</td>\n",
              "      <td>0.000000</td>\n",
              "      <td>0.000000</td>\n",
              "      <td>0.000000</td>\n",
              "      <td>0.000000</td>\n",
              "      <td>0.000000</td>\n",
              "      <td>0.000000</td>\n",
              "      <td>0.000000</td>\n",
              "      <td>0.000000</td>\n",
              "      <td>0.000000</td>\n",
              "      <td>0.000000</td>\n",
              "      <td>0.000000</td>\n",
              "      <td>0.000000</td>\n",
              "      <td>0.000000</td>\n",
              "      <td>0.000000</td>\n",
              "      <td>0.000000</td>\n",
              "      <td>0.000000</td>\n",
              "    </tr>\n",
              "    <tr>\n",
              "      <th>50%</th>\n",
              "      <td>91.600000</td>\n",
              "      <td>108.300000</td>\n",
              "      <td>664.200000</td>\n",
              "      <td>8.400000</td>\n",
              "      <td>19.300000</td>\n",
              "      <td>42.000000</td>\n",
              "      <td>4.000000</td>\n",
              "      <td>0.000000</td>\n",
              "      <td>0.520000</td>\n",
              "      <td>0.000000</td>\n",
              "      <td>0.000000</td>\n",
              "      <td>0.000000</td>\n",
              "      <td>0.000000</td>\n",
              "      <td>0.000000</td>\n",
              "      <td>0.000000</td>\n",
              "      <td>0.000000</td>\n",
              "      <td>0.000000</td>\n",
              "      <td>0.000000</td>\n",
              "      <td>0.000000</td>\n",
              "      <td>0.000000</td>\n",
              "      <td>0.000000</td>\n",
              "      <td>0.000000</td>\n",
              "      <td>0.000000</td>\n",
              "      <td>0.000000</td>\n",
              "      <td>0.000000</td>\n",
              "      <td>0.000000</td>\n",
              "      <td>0.000000</td>\n",
              "      <td>0.000000</td>\n",
              "    </tr>\n",
              "    <tr>\n",
              "      <th>75%</th>\n",
              "      <td>92.900000</td>\n",
              "      <td>142.400000</td>\n",
              "      <td>713.900000</td>\n",
              "      <td>10.800000</td>\n",
              "      <td>22.800000</td>\n",
              "      <td>53.000000</td>\n",
              "      <td>4.900000</td>\n",
              "      <td>0.000000</td>\n",
              "      <td>6.570000</td>\n",
              "      <td>0.000000</td>\n",
              "      <td>0.000000</td>\n",
              "      <td>0.000000</td>\n",
              "      <td>0.000000</td>\n",
              "      <td>0.000000</td>\n",
              "      <td>0.000000</td>\n",
              "      <td>0.000000</td>\n",
              "      <td>0.000000</td>\n",
              "      <td>1.000000</td>\n",
              "      <td>0.000000</td>\n",
              "      <td>0.000000</td>\n",
              "      <td>0.000000</td>\n",
              "      <td>0.000000</td>\n",
              "      <td>0.000000</td>\n",
              "      <td>0.000000</td>\n",
              "      <td>0.000000</td>\n",
              "      <td>0.000000</td>\n",
              "      <td>0.000000</td>\n",
              "      <td>1.000000</td>\n",
              "    </tr>\n",
              "    <tr>\n",
              "      <th>max</th>\n",
              "      <td>96.200000</td>\n",
              "      <td>291.300000</td>\n",
              "      <td>860.600000</td>\n",
              "      <td>56.100000</td>\n",
              "      <td>33.300000</td>\n",
              "      <td>100.000000</td>\n",
              "      <td>9.400000</td>\n",
              "      <td>6.400000</td>\n",
              "      <td>1090.840000</td>\n",
              "      <td>1.000000</td>\n",
              "      <td>1.000000</td>\n",
              "      <td>1.000000</td>\n",
              "      <td>1.000000</td>\n",
              "      <td>1.000000</td>\n",
              "      <td>1.000000</td>\n",
              "      <td>1.000000</td>\n",
              "      <td>1.000000</td>\n",
              "      <td>1.000000</td>\n",
              "      <td>1.000000</td>\n",
              "      <td>1.000000</td>\n",
              "      <td>1.000000</td>\n",
              "      <td>1.000000</td>\n",
              "      <td>1.000000</td>\n",
              "      <td>1.000000</td>\n",
              "      <td>1.000000</td>\n",
              "      <td>1.000000</td>\n",
              "      <td>1.000000</td>\n",
              "      <td>1.000000</td>\n",
              "    </tr>\n",
              "  </tbody>\n",
              "</table>\n",
              "</div>"
            ],
            "text/plain": [
              "             FFMC         DMC          DC  ...    monthnov    monthoct    monthsep\n",
              "count  517.000000  517.000000  517.000000  ...  517.000000  517.000000  517.000000\n",
              "mean    90.644681  110.872340  547.940039  ...    0.001934    0.029014    0.332689\n",
              "std      5.520111   64.046482  248.066192  ...    0.043980    0.168007    0.471632\n",
              "min     18.700000    1.100000    7.900000  ...    0.000000    0.000000    0.000000\n",
              "25%     90.200000   68.600000  437.700000  ...    0.000000    0.000000    0.000000\n",
              "50%     91.600000  108.300000  664.200000  ...    0.000000    0.000000    0.000000\n",
              "75%     92.900000  142.400000  713.900000  ...    0.000000    0.000000    1.000000\n",
              "max     96.200000  291.300000  860.600000  ...    1.000000    1.000000    1.000000\n",
              "\n",
              "[8 rows x 28 columns]"
            ]
          },
          "metadata": {
            "tags": []
          },
          "execution_count": 56
        }
      ]
    },
    {
      "cell_type": "code",
      "metadata": {
        "colab": {
          "base_uri": "https://localhost:8080/"
        },
        "id": "mAQAmdIfzWWg",
        "outputId": "6d497f78-60d6-41d2-cf3e-c958b5c8932a"
      },
      "source": [
        "forestfire.loc[forestfire[\"size_category\"]=='small','size_category']=0\n",
        "forestfire.loc[forestfire[\"size_category\"]=='large','size_category']=1\n",
        "forestfire[\"size_category\"].value_counts()"
      ],
      "execution_count": 57,
      "outputs": [
        {
          "output_type": "execute_result",
          "data": {
            "text/plain": [
              "0    378\n",
              "1    139\n",
              "Name: size_category, dtype: int64"
            ]
          },
          "metadata": {
            "tags": []
          },
          "execution_count": 57
        }
      ]
    },
    {
      "cell_type": "code",
      "metadata": {
        "id": "ol5NgffyzWes"
      },
      "source": [
        "def norm_func(i):\n",
        "     x = (i-i.min())  /  (i.max()  -  i.min())\n",
        "     return (x)"
      ],
      "execution_count": 58,
      "outputs": []
    },
    {
      "cell_type": "code",
      "metadata": {
        "id": "yAhbCNTSzWiQ"
      },
      "source": [
        "predictors = forestfire.iloc[:,0:28]\n",
        "target = forestfire.iloc[:,28]"
      ],
      "execution_count": 59,
      "outputs": []
    },
    {
      "cell_type": "code",
      "metadata": {
        "id": "A697mzR3zWmO"
      },
      "source": [
        "predictors1 = norm_func(predictors)"
      ],
      "execution_count": 60,
      "outputs": []
    },
    {
      "cell_type": "code",
      "metadata": {
        "id": "NCXmwm5FzWqI"
      },
      "source": [
        "from sklearn.model_selection import train_test_split\n",
        "x_train,x_test,y_train,y_test= train_test_split(predictors1,target, test_size=0.3,stratify = target)"
      ],
      "execution_count": 61,
      "outputs": []
    },
    {
      "cell_type": "code",
      "metadata": {
        "id": "oofLlE-bxl3V"
      },
      "source": [
        "def prep_model(hidden_dim):\n",
        "    model = Sequential()\n",
        "    for i in range(1,len(hidden_dim)-1):\n",
        "        if (i==1):\n",
        "            model.add(Dense(hidden_dim[i],input_dim=hidden_dim[0],activation=\"relu\"))\n",
        "        else:\n",
        "            model.add(Dense(hidden_dim[i],activation=\"relu\"))\n",
        "    model.add(Dense(hidden_dim[-1],kernel_initializer=\"normal\",activation=\"sigmoid\"))\n",
        "    model.compile(loss=\"binary_crossentropy\",optimizer = \"rmsprop\",metrics = [\"accuracy\"])\n",
        "    return model"
      ],
      "execution_count": 62,
      "outputs": []
    },
    {
      "cell_type": "code",
      "metadata": {
        "id": "u59hn0H71YUc"
      },
      "source": [
        "first_model = prep_model([28,50,40,20,1])\n",
        "pred_train = first_model.predict(np.array(x_train))"
      ],
      "execution_count": 63,
      "outputs": []
    },
    {
      "cell_type": "code",
      "metadata": {
        "id": "-Wg4ZGy21Ybv"
      },
      "source": [
        "pred_train = pd.Series([i[0] for i in pred_train])"
      ],
      "execution_count": 64,
      "outputs": []
    },
    {
      "cell_type": "code",
      "metadata": {
        "id": "znwi_GNX1YfI"
      },
      "source": [
        "size = [\"small\",\"large\"]\n",
        "pred_train_class = pd.Series([\"small\"]*361)\n",
        "pred_train_class[[i>0.5 for i in pred_train]]= \"large\""
      ],
      "execution_count": 65,
      "outputs": []
    },
    {
      "cell_type": "code",
      "metadata": {
        "colab": {
          "base_uri": "https://localhost:8080/"
        },
        "id": "lB1LKNQe1Yl2",
        "outputId": "16ab84d3-3507-41c2-b01d-d3680e9b8dd7"
      },
      "source": [
        "train = pd.concat([x_train,y_train],axis=1)\n",
        "train[\"size_category\"].value_counts()"
      ],
      "execution_count": 66,
      "outputs": [
        {
          "output_type": "execute_result",
          "data": {
            "text/plain": [
              "0    264\n",
              "1     97\n",
              "Name: size_category, dtype: int64"
            ]
          },
          "metadata": {
            "tags": []
          },
          "execution_count": 66
        }
      ]
    },
    {
      "cell_type": "code",
      "metadata": {
        "colab": {
          "base_uri": "https://localhost:8080/",
          "height": 141
        },
        "id": "baTVO0RF1Yo-",
        "outputId": "697f6972-7fcc-4010-f4ee-346669270f46"
      },
      "source": [
        "from sklearn.metrics import confusion_matrix\n",
        "train[\"original_class\"] = \"small\"\n",
        "train.loc[train[\"size_category\"]==1,\"original_class\"] = \"large\"\n",
        "train.original_class.value_counts()\n",
        "confusion_matrix(pred_train_class,train[\"original_class\"])\n",
        "np.mean(pred_train_class==pd.Series(train[\"original_class\"]).reset_index(drop=True)) #100%\n",
        "pd.crosstab(pred_train_class,pd.Series(train[\"original_class\"]).reset_index(drop=True))"
      ],
      "execution_count": 67,
      "outputs": [
        {
          "output_type": "execute_result",
          "data": {
            "text/html": [
              "<div>\n",
              "<style scoped>\n",
              "    .dataframe tbody tr th:only-of-type {\n",
              "        vertical-align: middle;\n",
              "    }\n",
              "\n",
              "    .dataframe tbody tr th {\n",
              "        vertical-align: top;\n",
              "    }\n",
              "\n",
              "    .dataframe thead th {\n",
              "        text-align: right;\n",
              "    }\n",
              "</style>\n",
              "<table border=\"1\" class=\"dataframe\">\n",
              "  <thead>\n",
              "    <tr style=\"text-align: right;\">\n",
              "      <th>original_class</th>\n",
              "      <th>large</th>\n",
              "      <th>small</th>\n",
              "    </tr>\n",
              "    <tr>\n",
              "      <th>row_0</th>\n",
              "      <th></th>\n",
              "      <th></th>\n",
              "    </tr>\n",
              "  </thead>\n",
              "  <tbody>\n",
              "    <tr>\n",
              "      <th>large</th>\n",
              "      <td>61</td>\n",
              "      <td>171</td>\n",
              "    </tr>\n",
              "    <tr>\n",
              "      <th>small</th>\n",
              "      <td>36</td>\n",
              "      <td>93</td>\n",
              "    </tr>\n",
              "  </tbody>\n",
              "</table>\n",
              "</div>"
            ],
            "text/plain": [
              "original_class  large  small\n",
              "row_0                       \n",
              "large              61    171\n",
              "small              36     93"
            ]
          },
          "metadata": {
            "tags": []
          },
          "execution_count": 67
        }
      ]
    },
    {
      "cell_type": "code",
      "metadata": {
        "colab": {
          "base_uri": "https://localhost:8080/",
          "height": 141
        },
        "id": "BlZHTDZO1YsN",
        "outputId": "8b8a0180-d4b8-4d66-c956-d10db6646909"
      },
      "source": [
        "pred_test = first_model.predict(np.array(x_test))\n",
        "pred_test = pd.Series([i[0] for i in pred_test])\n",
        "pred_test_class = pd.Series([\"small\"]*156)\n",
        "pred_test_class[[i>0.5 for i in pred_test]] = \"large\"\n",
        "test =pd.concat([x_test,y_test],axis=1)\n",
        "test[\"original_class\"]=\"small\"\n",
        "test.loc[test[\"size_category\"]==1,\"original_class\"] = \"large\"\n",
        "\n",
        "test[\"original_class\"].value_counts()\n",
        "np.mean(pred_test_class==pd.Series(test[\"original_class\"]).reset_index(drop=True)) # 85%\n",
        "confusion_matrix(pred_test_class,test[\"original_class\"])\n",
        "pd.crosstab(pred_test_class,pd.Series(test[\"original_class\"]).reset_index(drop=True))"
      ],
      "execution_count": 68,
      "outputs": [
        {
          "output_type": "execute_result",
          "data": {
            "text/html": [
              "<div>\n",
              "<style scoped>\n",
              "    .dataframe tbody tr th:only-of-type {\n",
              "        vertical-align: middle;\n",
              "    }\n",
              "\n",
              "    .dataframe tbody tr th {\n",
              "        vertical-align: top;\n",
              "    }\n",
              "\n",
              "    .dataframe thead th {\n",
              "        text-align: right;\n",
              "    }\n",
              "</style>\n",
              "<table border=\"1\" class=\"dataframe\">\n",
              "  <thead>\n",
              "    <tr style=\"text-align: right;\">\n",
              "      <th>original_class</th>\n",
              "      <th>large</th>\n",
              "      <th>small</th>\n",
              "    </tr>\n",
              "    <tr>\n",
              "      <th>row_0</th>\n",
              "      <th></th>\n",
              "      <th></th>\n",
              "    </tr>\n",
              "  </thead>\n",
              "  <tbody>\n",
              "    <tr>\n",
              "      <th>large</th>\n",
              "      <td>26</td>\n",
              "      <td>77</td>\n",
              "    </tr>\n",
              "    <tr>\n",
              "      <th>small</th>\n",
              "      <td>16</td>\n",
              "      <td>37</td>\n",
              "    </tr>\n",
              "  </tbody>\n",
              "</table>\n",
              "</div>"
            ],
            "text/plain": [
              "original_class  large  small\n",
              "row_0                       \n",
              "large              26     77\n",
              "small              16     37"
            ]
          },
          "metadata": {
            "tags": []
          },
          "execution_count": 68
        }
      ]
    },
    {
      "cell_type": "markdown",
      "metadata": {
        "id": "BLTKyehp2NEN"
      },
      "source": [
        "# **GAS TURBINE**"
      ]
    },
    {
      "cell_type": "code",
      "metadata": {
        "id": "vDcBAgYu2u07"
      },
      "source": [
        "from keras.models import Sequential\n",
        "from keras.layers import Dense,Activation,Layer,Lambda\n",
        "import numpy as np\n",
        "import pandas as pd\n",
        "import matplotlib.pyplot as plt"
      ],
      "execution_count": 69,
      "outputs": []
    },
    {
      "cell_type": "code",
      "metadata": {
        "id": "CqV4By5u2vCd"
      },
      "source": [
        "gasturbines=pd.read_csv('/content/gas_turbines.csv')\n"
      ],
      "execution_count": 70,
      "outputs": []
    },
    {
      "cell_type": "code",
      "metadata": {
        "colab": {
          "base_uri": "https://localhost:8080/",
          "height": 202
        },
        "id": "gVd9dhG22vXZ",
        "outputId": "130ba289-34e7-4bfd-8988-0ee5549d72a7"
      },
      "source": [
        "gasturbines.head()"
      ],
      "execution_count": 71,
      "outputs": [
        {
          "output_type": "execute_result",
          "data": {
            "text/html": [
              "<div>\n",
              "<style scoped>\n",
              "    .dataframe tbody tr th:only-of-type {\n",
              "        vertical-align: middle;\n",
              "    }\n",
              "\n",
              "    .dataframe tbody tr th {\n",
              "        vertical-align: top;\n",
              "    }\n",
              "\n",
              "    .dataframe thead th {\n",
              "        text-align: right;\n",
              "    }\n",
              "</style>\n",
              "<table border=\"1\" class=\"dataframe\">\n",
              "  <thead>\n",
              "    <tr style=\"text-align: right;\">\n",
              "      <th></th>\n",
              "      <th>AT</th>\n",
              "      <th>AP</th>\n",
              "      <th>AH</th>\n",
              "      <th>AFDP</th>\n",
              "      <th>GTEP</th>\n",
              "      <th>TIT</th>\n",
              "      <th>TAT</th>\n",
              "      <th>TEY</th>\n",
              "      <th>CDP</th>\n",
              "      <th>CO</th>\n",
              "      <th>NOX</th>\n",
              "    </tr>\n",
              "  </thead>\n",
              "  <tbody>\n",
              "    <tr>\n",
              "      <th>0</th>\n",
              "      <td>6.8594</td>\n",
              "      <td>1007.9</td>\n",
              "      <td>96.799</td>\n",
              "      <td>3.5000</td>\n",
              "      <td>19.663</td>\n",
              "      <td>1059.2</td>\n",
              "      <td>550.00</td>\n",
              "      <td>114.70</td>\n",
              "      <td>10.605</td>\n",
              "      <td>3.1547</td>\n",
              "      <td>82.722</td>\n",
              "    </tr>\n",
              "    <tr>\n",
              "      <th>1</th>\n",
              "      <td>6.7850</td>\n",
              "      <td>1008.4</td>\n",
              "      <td>97.118</td>\n",
              "      <td>3.4998</td>\n",
              "      <td>19.728</td>\n",
              "      <td>1059.3</td>\n",
              "      <td>550.00</td>\n",
              "      <td>114.72</td>\n",
              "      <td>10.598</td>\n",
              "      <td>3.2363</td>\n",
              "      <td>82.776</td>\n",
              "    </tr>\n",
              "    <tr>\n",
              "      <th>2</th>\n",
              "      <td>6.8977</td>\n",
              "      <td>1008.8</td>\n",
              "      <td>95.939</td>\n",
              "      <td>3.4824</td>\n",
              "      <td>19.779</td>\n",
              "      <td>1059.4</td>\n",
              "      <td>549.87</td>\n",
              "      <td>114.71</td>\n",
              "      <td>10.601</td>\n",
              "      <td>3.2012</td>\n",
              "      <td>82.468</td>\n",
              "    </tr>\n",
              "    <tr>\n",
              "      <th>3</th>\n",
              "      <td>7.0569</td>\n",
              "      <td>1009.2</td>\n",
              "      <td>95.249</td>\n",
              "      <td>3.4805</td>\n",
              "      <td>19.792</td>\n",
              "      <td>1059.6</td>\n",
              "      <td>549.99</td>\n",
              "      <td>114.72</td>\n",
              "      <td>10.606</td>\n",
              "      <td>3.1923</td>\n",
              "      <td>82.670</td>\n",
              "    </tr>\n",
              "    <tr>\n",
              "      <th>4</th>\n",
              "      <td>7.3978</td>\n",
              "      <td>1009.7</td>\n",
              "      <td>95.150</td>\n",
              "      <td>3.4976</td>\n",
              "      <td>19.765</td>\n",
              "      <td>1059.7</td>\n",
              "      <td>549.98</td>\n",
              "      <td>114.72</td>\n",
              "      <td>10.612</td>\n",
              "      <td>3.2484</td>\n",
              "      <td>82.311</td>\n",
              "    </tr>\n",
              "  </tbody>\n",
              "</table>\n",
              "</div>"
            ],
            "text/plain": [
              "       AT      AP      AH    AFDP  ...     TEY     CDP      CO     NOX\n",
              "0  6.8594  1007.9  96.799  3.5000  ...  114.70  10.605  3.1547  82.722\n",
              "1  6.7850  1008.4  97.118  3.4998  ...  114.72  10.598  3.2363  82.776\n",
              "2  6.8977  1008.8  95.939  3.4824  ...  114.71  10.601  3.2012  82.468\n",
              "3  7.0569  1009.2  95.249  3.4805  ...  114.72  10.606  3.1923  82.670\n",
              "4  7.3978  1009.7  95.150  3.4976  ...  114.72  10.612  3.2484  82.311\n",
              "\n",
              "[5 rows x 11 columns]"
            ]
          },
          "metadata": {
            "tags": []
          },
          "execution_count": 71
        }
      ]
    },
    {
      "cell_type": "code",
      "metadata": {
        "colab": {
          "base_uri": "https://localhost:8080/",
          "height": 314
        },
        "id": "j3o-YPuE2vbF",
        "outputId": "3c67ad88-0d11-4524-f38d-7b9cec9b7e0f"
      },
      "source": [
        "gasturbines.isnull().sum()\n",
        "gasturbines.describe()"
      ],
      "execution_count": 72,
      "outputs": [
        {
          "output_type": "execute_result",
          "data": {
            "text/html": [
              "<div>\n",
              "<style scoped>\n",
              "    .dataframe tbody tr th:only-of-type {\n",
              "        vertical-align: middle;\n",
              "    }\n",
              "\n",
              "    .dataframe tbody tr th {\n",
              "        vertical-align: top;\n",
              "    }\n",
              "\n",
              "    .dataframe thead th {\n",
              "        text-align: right;\n",
              "    }\n",
              "</style>\n",
              "<table border=\"1\" class=\"dataframe\">\n",
              "  <thead>\n",
              "    <tr style=\"text-align: right;\">\n",
              "      <th></th>\n",
              "      <th>AT</th>\n",
              "      <th>AP</th>\n",
              "      <th>AH</th>\n",
              "      <th>AFDP</th>\n",
              "      <th>GTEP</th>\n",
              "      <th>TIT</th>\n",
              "      <th>TAT</th>\n",
              "      <th>TEY</th>\n",
              "      <th>CDP</th>\n",
              "      <th>CO</th>\n",
              "      <th>NOX</th>\n",
              "    </tr>\n",
              "  </thead>\n",
              "  <tbody>\n",
              "    <tr>\n",
              "      <th>count</th>\n",
              "      <td>15039.000000</td>\n",
              "      <td>15039.00000</td>\n",
              "      <td>15039.000000</td>\n",
              "      <td>15039.000000</td>\n",
              "      <td>15039.000000</td>\n",
              "      <td>15039.000000</td>\n",
              "      <td>15039.000000</td>\n",
              "      <td>15039.000000</td>\n",
              "      <td>15039.000000</td>\n",
              "      <td>15039.000000</td>\n",
              "      <td>15039.000000</td>\n",
              "    </tr>\n",
              "    <tr>\n",
              "      <th>mean</th>\n",
              "      <td>17.764381</td>\n",
              "      <td>1013.19924</td>\n",
              "      <td>79.124174</td>\n",
              "      <td>4.200294</td>\n",
              "      <td>25.419061</td>\n",
              "      <td>1083.798770</td>\n",
              "      <td>545.396183</td>\n",
              "      <td>134.188464</td>\n",
              "      <td>12.102353</td>\n",
              "      <td>1.972499</td>\n",
              "      <td>68.190934</td>\n",
              "    </tr>\n",
              "    <tr>\n",
              "      <th>std</th>\n",
              "      <td>7.574323</td>\n",
              "      <td>6.41076</td>\n",
              "      <td>13.793439</td>\n",
              "      <td>0.760197</td>\n",
              "      <td>4.173916</td>\n",
              "      <td>16.527806</td>\n",
              "      <td>7.866803</td>\n",
              "      <td>15.829717</td>\n",
              "      <td>1.103196</td>\n",
              "      <td>2.222206</td>\n",
              "      <td>10.470586</td>\n",
              "    </tr>\n",
              "    <tr>\n",
              "      <th>min</th>\n",
              "      <td>0.522300</td>\n",
              "      <td>985.85000</td>\n",
              "      <td>30.344000</td>\n",
              "      <td>2.087400</td>\n",
              "      <td>17.878000</td>\n",
              "      <td>1000.800000</td>\n",
              "      <td>512.450000</td>\n",
              "      <td>100.170000</td>\n",
              "      <td>9.904400</td>\n",
              "      <td>0.000388</td>\n",
              "      <td>27.765000</td>\n",
              "    </tr>\n",
              "    <tr>\n",
              "      <th>25%</th>\n",
              "      <td>11.408000</td>\n",
              "      <td>1008.90000</td>\n",
              "      <td>69.750000</td>\n",
              "      <td>3.723900</td>\n",
              "      <td>23.294000</td>\n",
              "      <td>1079.600000</td>\n",
              "      <td>542.170000</td>\n",
              "      <td>127.985000</td>\n",
              "      <td>11.622000</td>\n",
              "      <td>0.858055</td>\n",
              "      <td>61.303500</td>\n",
              "    </tr>\n",
              "    <tr>\n",
              "      <th>50%</th>\n",
              "      <td>18.186000</td>\n",
              "      <td>1012.80000</td>\n",
              "      <td>82.266000</td>\n",
              "      <td>4.186200</td>\n",
              "      <td>25.082000</td>\n",
              "      <td>1088.700000</td>\n",
              "      <td>549.890000</td>\n",
              "      <td>133.780000</td>\n",
              "      <td>12.025000</td>\n",
              "      <td>1.390200</td>\n",
              "      <td>66.601000</td>\n",
              "    </tr>\n",
              "    <tr>\n",
              "      <th>75%</th>\n",
              "      <td>23.862500</td>\n",
              "      <td>1016.90000</td>\n",
              "      <td>90.043500</td>\n",
              "      <td>4.550900</td>\n",
              "      <td>27.184000</td>\n",
              "      <td>1096.000000</td>\n",
              "      <td>550.060000</td>\n",
              "      <td>140.895000</td>\n",
              "      <td>12.578000</td>\n",
              "      <td>2.160400</td>\n",
              "      <td>73.935500</td>\n",
              "    </tr>\n",
              "    <tr>\n",
              "      <th>max</th>\n",
              "      <td>34.929000</td>\n",
              "      <td>1034.20000</td>\n",
              "      <td>100.200000</td>\n",
              "      <td>7.610600</td>\n",
              "      <td>37.402000</td>\n",
              "      <td>1100.800000</td>\n",
              "      <td>550.610000</td>\n",
              "      <td>174.610000</td>\n",
              "      <td>15.081000</td>\n",
              "      <td>44.103000</td>\n",
              "      <td>119.890000</td>\n",
              "    </tr>\n",
              "  </tbody>\n",
              "</table>\n",
              "</div>"
            ],
            "text/plain": [
              "                 AT           AP  ...            CO           NOX\n",
              "count  15039.000000  15039.00000  ...  15039.000000  15039.000000\n",
              "mean      17.764381   1013.19924  ...      1.972499     68.190934\n",
              "std        7.574323      6.41076  ...      2.222206     10.470586\n",
              "min        0.522300    985.85000  ...      0.000388     27.765000\n",
              "25%       11.408000   1008.90000  ...      0.858055     61.303500\n",
              "50%       18.186000   1012.80000  ...      1.390200     66.601000\n",
              "75%       23.862500   1016.90000  ...      2.160400     73.935500\n",
              "max       34.929000   1034.20000  ...     44.103000    119.890000\n",
              "\n",
              "[8 rows x 11 columns]"
            ]
          },
          "metadata": {
            "tags": []
          },
          "execution_count": 72
        }
      ]
    },
    {
      "cell_type": "code",
      "metadata": {
        "colab": {
          "base_uri": "https://localhost:8080/"
        },
        "id": "EYoa6-H22vg2",
        "outputId": "a8cc6f50-100f-4364-ab40-dc7cd61b7db0"
      },
      "source": [
        "\n",
        "gasturbines.shape"
      ],
      "execution_count": 73,
      "outputs": [
        {
          "output_type": "execute_result",
          "data": {
            "text/plain": [
              "(15039, 11)"
            ]
          },
          "metadata": {
            "tags": []
          },
          "execution_count": 73
        }
      ]
    },
    {
      "cell_type": "code",
      "metadata": {
        "id": "fjyv0awt3zSb"
      },
      "source": [
        "def norm_func(i):\n",
        "     x = (i-i.min())  /  (i.max()  -  i.min())\n",
        "     return (x)"
      ],
      "execution_count": 74,
      "outputs": []
    },
    {
      "cell_type": "code",
      "metadata": {
        "id": "urNGgp1j3zee"
      },
      "source": [
        "ambient = gasturbines.iloc[:,0:8]\n",
        "variables = gasturbines.iloc[:,8]"
      ],
      "execution_count": 75,
      "outputs": []
    },
    {
      "cell_type": "code",
      "metadata": {
        "id": "blJf2Je_3zmV"
      },
      "source": [
        "ambient1 = norm_func(ambient)"
      ],
      "execution_count": 76,
      "outputs": []
    },
    {
      "cell_type": "code",
      "metadata": {
        "colab": {
          "base_uri": "https://localhost:8080/",
          "height": 264
        },
        "id": "1uAK7Dd03zx6",
        "outputId": "34752f4a-a9dc-4bf3-a0ab-34bafe321449"
      },
      "source": [
        "plt.scatter(x, y);"
      ],
      "execution_count": 77,
      "outputs": [
        {
          "output_type": "display_data",
          "data": {
            "image/png": "[encoded data removed]",
            "text/plain": [
              "<Figure size 432x288 with 1 Axes>"
            ]
          },
          "metadata": {
            "tags": [],
            "needs_background": "light"
          }
        }
      ]
    },
    {
      "cell_type": "code",
      "metadata": {
        "colab": {
          "base_uri": "https://localhost:8080/",
          "height": 264
        },
        "id": "2AFFBGa72vjV",
        "outputId": "fcccc382-f2d5-4912-db37-e0fd7d7e93e5"
      },
      "source": [
        "rng = np.random.RandomState(0)\n",
        "x = rng.randn(100)\n",
        "y = rng.randn(100)\n",
        "colors = rng.rand(100)\n",
        "sizes = 1000 * rng.rand(100)\n",
        "\n",
        "plt.scatter(x, y, c=colors, s=sizes, alpha=0.5,\n",
        "            cmap='magma')\n",
        "plt.colorbar();"
      ],
      "execution_count": 78,
      "outputs": [
        {
          "output_type": "display_data",
          "data": {
            "image/png": "[encoded data removed]",
            "text/plain": [
              "<Figure size 432x288 with 2 Axes>"
            ]
          },
          "metadata": {
            "tags": [],
            "needs_background": "light"
          }
        }
      ]
    },
    {
      "cell_type": "code",
      "metadata": {
        "colab": {
          "base_uri": "https://localhost:8080/",
          "height": 1000
        },
        "id": "Z5rfI-zQClzA",
        "outputId": "b4053a56-f711-458d-a0f5-63f64b1d4254"
      },
      "source": [
        "gasturbines.plot(kind='density', subplots=True, layout=(10,10), sharex=True, sharey=False)"
      ],
      "execution_count": 79,
      "outputs": [
        {
          "output_type": "execute_result",
          "data": {
            "text/plain": [
              "array([[<matplotlib.axes._subplots.AxesSubplot object at 0x7f8a065ac610>,\n",
              "        <matplotlib.axes._subplots.AxesSubplot object at 0x7f8a05459910>,\n",
              "        <matplotlib.axes._subplots.AxesSubplot object at 0x7f8a054e59d0>,\n",
              "        <matplotlib.axes._subplots.AxesSubplot object at 0x7f8a053bafd0>,\n",
              "        <matplotlib.axes._subplots.AxesSubplot object at 0x7f8a0537b450>,\n",
              "        <matplotlib.axes._subplots.AxesSubplot object at 0x7f8a05333850>,\n",
              "        <matplotlib.axes._subplots.AxesSubplot object at 0x7f8a052e7cd0>,\n",
              "        <matplotlib.axes._subplots.AxesSubplot object at 0x7f8a05315bd0>,\n",
              "        <matplotlib.axes._subplots.AxesSubplot object at 0x7f8a052ac0d0>,\n",
              "        <matplotlib.axes._subplots.AxesSubplot object at 0x7f8a05262590>],\n",
              "       [<matplotlib.axes._subplots.AxesSubplot object at 0x7f8a0524fc90>,\n",
              "        <matplotlib.axes._subplots.AxesSubplot object at 0x7f8a052120d0>,\n",
              "        <matplotlib.axes._subplots.AxesSubplot object at 0x7f8a051c6650>,\n",
              "        <matplotlib.axes._subplots.AxesSubplot object at 0x7f8a0517bbd0>,\n",
              "        <matplotlib.axes._subplots.AxesSubplot object at 0x7f8a0513e190>,\n",
              "        <matplotlib.axes._subplots.AxesSubplot object at 0x7f8a050f5710>,\n",
              "        <matplotlib.axes._subplots.AxesSubplot object at 0x7f8a050a8c90>,\n",
              "        <matplotlib.axes._subplots.AxesSubplot object at 0x7f8a0506b250>,\n",
              "        <matplotlib.axes._subplots.AxesSubplot object at 0x7f8a050217d0>,\n",
              "        <matplotlib.axes._subplots.AxesSubplot object at 0x7f8a05058d50>],\n",
              "       [<matplotlib.axes._subplots.AxesSubplot object at 0x7f8a0501a310>,\n",
              "        <matplotlib.axes._subplots.AxesSubplot object at 0x7f8a04fcf890>,\n",
              "        <matplotlib.axes._subplots.AxesSubplot object at 0x7f8a04f84e10>,\n",
              "        <matplotlib.axes._subplots.AxesSubplot object at 0x7f8a04f463d0>,\n",
              "        <matplotlib.axes._subplots.AxesSubplot object at 0x7f8a04efc950>,\n",
              "        <matplotlib.axes._subplots.AxesSubplot object at 0x7f8a04eb3ed0>,\n",
              "        <matplotlib.axes._subplots.AxesSubplot object at 0x7f8a04e74490>,\n",
              "        <matplotlib.axes._subplots.AxesSubplot object at 0x7f8a04e2aa10>,\n",
              "        <matplotlib.axes._subplots.AxesSubplot object at 0x7f8a04de0f50>,\n",
              "        <matplotlib.axes._subplots.AxesSubplot object at 0x7f8a04da2550>],\n",
              "       [<matplotlib.axes._subplots.AxesSubplot object at 0x7f8a04dd7ad0>,\n",
              "        <matplotlib.axes._subplots.AxesSubplot object at 0x7f8a04d82bd0>,\n",
              "        <matplotlib.axes._subplots.AxesSubplot object at 0x7f8a04d4c6d0>,\n",
              "        <matplotlib.axes._subplots.AxesSubplot object at 0x7f8a04d02b90>,\n",
              "        <matplotlib.axes._subplots.AxesSubplot object at 0x7f8a04cc6150>,\n",
              "        <matplotlib.axes._subplots.AxesSubplot object at 0x7f8a04c7c6d0>,\n",
              "        <matplotlib.axes._subplots.AxesSubplot object at 0x7f8a04c31c50>,\n",
              "        <matplotlib.axes._subplots.AxesSubplot object at 0x7f8a04bf4210>,\n",
              "        <matplotlib.axes._subplots.AxesSubplot object at 0x7f8a04ba97d0>,\n",
              "        <matplotlib.axes._subplots.AxesSubplot object at 0x7f8a04bded10>],\n",
              "       [<matplotlib.axes._subplots.AxesSubplot object at 0x7f8a04b202d0>,\n",
              "        <matplotlib.axes._subplots.AxesSubplot object at 0x7f8a04b56850>,\n",
              "        <matplotlib.axes._subplots.AxesSubplot object at 0x7f8a04b0cd90>,\n",
              "        <matplotlib.axes._subplots.AxesSubplot object at 0x7f8a04aca590>,\n",
              "        <matplotlib.axes._subplots.AxesSubplot object at 0x7f8a04a81ad0>,\n",
              "        <matplotlib.axes._subplots.AxesSubplot object at 0x7f8a04a2db90>,\n",
              "        <matplotlib.axes._subplots.AxesSubplot object at 0x7f8a093574d0>,\n",
              "        <matplotlib.axes._subplots.AxesSubplot object at 0x7f8a06eec9d0>,\n",
              "        <matplotlib.axes._subplots.AxesSubplot object at 0x7f8a06f872d0>,\n",
              "        <matplotlib.axes._subplots.AxesSubplot object at 0x7f8a0547c990>],\n",
              "       [<matplotlib.axes._subplots.AxesSubplot object at 0x7f8a05434a50>,\n",
              "        <matplotlib.axes._subplots.AxesSubplot object at 0x7f8a07586bd0>,\n",
              "        <matplotlib.axes._subplots.AxesSubplot object at 0x7f8a06567690>,\n",
              "        <matplotlib.axes._subplots.AxesSubplot object at 0x7f8a19565090>,\n",
              "        <matplotlib.axes._subplots.AxesSubplot object at 0x7f8a04a38c10>,\n",
              "        <matplotlib.axes._subplots.AxesSubplot object at 0x7f8a049832d0>,\n",
              "        <matplotlib.axes._subplots.AxesSubplot object at 0x7f8a04939950>,\n",
              "        <matplotlib.axes._subplots.AxesSubplot object at 0x7f8a048e5b50>,\n",
              "        <matplotlib.axes._subplots.AxesSubplot object at 0x7f8a048b2690>,\n",
              "        <matplotlib.axes._subplots.AxesSubplot object at 0x7f8a04867d10>],\n",
              "       [<matplotlib.axes._subplots.AxesSubplot object at 0x7f8a0482a3d0>,\n",
              "        <matplotlib.axes._subplots.AxesSubplot object at 0x7f8a0485ea50>,\n",
              "        <matplotlib.axes._subplots.AxesSubplot object at 0x7f8a047a2110>,\n",
              "        <matplotlib.axes._subplots.AxesSubplot object at 0x7f8a047d7790>,\n",
              "        <matplotlib.axes._subplots.AxesSubplot object at 0x7f8a0478ce10>,\n",
              "        <matplotlib.axes._subplots.AxesSubplot object at 0x7f8a0474e4d0>,\n",
              "        <matplotlib.axes._subplots.AxesSubplot object at 0x7f8a04705b50>,\n",
              "        <matplotlib.axes._subplots.AxesSubplot object at 0x7f8a046c7210>,\n",
              "        <matplotlib.axes._subplots.AxesSubplot object at 0x7f8a0467d890>,\n",
              "        <matplotlib.axes._subplots.AxesSubplot object at 0x7f8a04633f10>],\n",
              "       [<matplotlib.axes._subplots.AxesSubplot object at 0x7f8a045f55d0>,\n",
              "        <matplotlib.axes._subplots.AxesSubplot object at 0x7f8a045aac50>,\n",
              "        <matplotlib.axes._subplots.AxesSubplot object at 0x7f8a0456d310>,\n",
              "        <matplotlib.axes._subplots.AxesSubplot object at 0x7f8a04525990>,\n",
              "        <matplotlib.axes._subplots.AxesSubplot object at 0x7f8a0455afd0>,\n",
              "        <matplotlib.axes._subplots.AxesSubplot object at 0x7f8a0451b6d0>,\n",
              "        <matplotlib.axes._subplots.AxesSubplot object at 0x7f8a044d8650>,\n",
              "        <matplotlib.axes._subplots.AxesSubplot object at 0x7f8a0448cbd0>,\n",
              "        <matplotlib.axes._subplots.AxesSubplot object at 0x7f8a0444f190>,\n",
              "        <matplotlib.axes._subplots.AxesSubplot object at 0x7f8a04404710>],\n",
              "       [<matplotlib.axes._subplots.AxesSubplot object at 0x7f8a043bcc90>,\n",
              "        <matplotlib.axes._subplots.AxesSubplot object at 0x7f8a0437f250>,\n",
              "        <matplotlib.axes._subplots.AxesSubplot object at 0x7f8a043327d0>,\n",
              "        <matplotlib.axes._subplots.AxesSubplot object at 0x7f8a042ead50>,\n",
              "        <matplotlib.axes._subplots.AxesSubplot object at 0x7f8a042ad310>,\n",
              "        <matplotlib.axes._subplots.AxesSubplot object at 0x7f8a04261890>,\n",
              "        <matplotlib.axes._subplots.AxesSubplot object at 0x7f8a04296e10>,\n",
              "        <matplotlib.axes._subplots.AxesSubplot object at 0x7f8a042583d0>,\n",
              "        <matplotlib.axes._subplots.AxesSubplot object at 0x7f8a0420d950>,\n",
              "        <matplotlib.axes._subplots.AxesSubplot object at 0x7f8a041c4ed0>],\n",
              "       [<matplotlib.axes._subplots.AxesSubplot object at 0x7f8a04187490>,\n",
              "        <matplotlib.axes._subplots.AxesSubplot object at 0x7f8a0413ea10>,\n",
              "        <matplotlib.axes._subplots.AxesSubplot object at 0x7f8a040f2f90>,\n",
              "        <matplotlib.axes._subplots.AxesSubplot object at 0x7f8a040b4550>,\n",
              "        <matplotlib.axes._subplots.AxesSubplot object at 0x7f8a0406bad0>,\n",
              "        <matplotlib.axes._subplots.AxesSubplot object at 0x7f8a04095bd0>,\n",
              "        <matplotlib.axes._subplots.AxesSubplot object at 0x7f8a03fe2610>,\n",
              "        <matplotlib.axes._subplots.AxesSubplot object at 0x7f8a0401ab90>,\n",
              "        <matplotlib.axes._subplots.AxesSubplot object at 0x7f8a03fdd150>,\n",
              "        <matplotlib.axes._subplots.AxesSubplot object at 0x7f8a03f936d0>]],\n",
              "      dtype=object)"
            ]
          },
          "metadata": {
            "tags": []
          },
          "execution_count": 79
        },
        {
          "output_type": "display_data",
          "data": {
            "image/png": "[encoded data removed]",
            "text/plain": [
              "<Figure size 432x288 with 100 Axes>"
            ]
          },
          "metadata": {
            "tags": [],
            "needs_background": "light"
          }
        }
      ]
    },
    {
      "cell_type": "code",
      "metadata": {
        "colab": {
          "base_uri": "https://localhost:8080/",
          "height": 278
        },
        "id": "M21e4R-PCl_s",
        "outputId": "87c8cc77-fb6c-4f1e-c4b5-26990cdcf361"
      },
      "source": [
        "gasturbines.plot(kind='box', subplots=True, layout=(11,11), sharex=False, sharey=True)"
      ],
      "execution_count": 80,
      "outputs": [
        {
          "output_type": "execute_result",
          "data": {
            "text/plain": [
              "AT        AxesSubplot(0.125,0.821923;0.0596154x0.0580769)\n",
              "AP      AxesSubplot(0.196538,0.821923;0.0596154x0.0580...\n",
              "AH      AxesSubplot(0.268077,0.821923;0.0596154x0.0580...\n",
              "AFDP    AxesSubplot(0.339615,0.821923;0.0596154x0.0580...\n",
              "GTEP    AxesSubplot(0.411154,0.821923;0.0596154x0.0580...\n",
              "TIT     AxesSubplot(0.482692,0.821923;0.0596154x0.0580...\n",
              "TAT     AxesSubplot(0.554231,0.821923;0.0596154x0.0580...\n",
              "TEY     AxesSubplot(0.625769,0.821923;0.0596154x0.0580...\n",
              "CDP     AxesSubplot(0.697308,0.821923;0.0596154x0.0580...\n",
              "CO      AxesSubplot(0.768846,0.821923;0.0596154x0.0580...\n",
              "NOX     AxesSubplot(0.840385,0.821923;0.0596154x0.0580...\n",
              "dtype: object"
            ]
          },
          "metadata": {
            "tags": []
          },
          "execution_count": 80
        },
        {
          "output_type": "display_data",
          "data": {
            "image/png": "[encoded data removed]",
            "text/plain": [
              "<Figure size 432x288 with 121 Axes>"
            ]
          },
          "metadata": {
            "tags": [],
            "needs_background": "light"
          }
        }
      ]
    },
    {
      "cell_type": "code",
      "metadata": {
        "colab": {
          "base_uri": "https://localhost:8080/",
          "height": 1000
        },
        "id": "jMZJxO9bC1x6",
        "outputId": "49ec36fa-eb39-49da-d94e-bd33b69a7358"
      },
      "source": [
        "pd.plotting.scatter_matrix(gasturbines)"
      ],
      "execution_count": 81,
      "outputs": [
        {
          "output_type": "execute_result",
          "data": {
            "text/plain": [
              "array([[<matplotlib.axes._subplots.AxesSubplot object at 0x7f8a02166fd0>,\n",
              "        <matplotlib.axes._subplots.AxesSubplot object at 0x7f8a02152d90>,\n",
              "        <matplotlib.axes._subplots.AxesSubplot object at 0x7f8a020a3410>,\n",
              "        <matplotlib.axes._subplots.AxesSubplot object at 0x7f8a020d6990>,\n",
              "        <matplotlib.axes._subplots.AxesSubplot object at 0x7f8a0208bf10>,\n",
              "        <matplotlib.axes._subplots.AxesSubplot object at 0x7f8a0204e4d0>,\n",
              "        <matplotlib.axes._subplots.AxesSubplot object at 0x7f8a02002ad0>,\n",
              "        <matplotlib.axes._subplots.AxesSubplot object at 0x7f8a01fabb50>,\n",
              "        <matplotlib.axes._subplots.AxesSubplot object at 0x7f8a01fc4090>,\n",
              "        <matplotlib.axes._subplots.AxesSubplot object at 0x7f8a01f78690>,\n",
              "        <matplotlib.axes._subplots.AxesSubplot object at 0x7f8a01ef00d0>],\n",
              "       [<matplotlib.axes._subplots.AxesSubplot object at 0x7f8a01ea5650>,\n",
              "        <matplotlib.axes._subplots.AxesSubplot object at 0x7f8a01edbbd0>,\n",
              "        <matplotlib.axes._subplots.AxesSubplot object at 0x7f8a01e9e190>,\n",
              "        <matplotlib.axes._subplots.AxesSubplot object at 0x7f8a01e53710>,\n",
              "        <matplotlib.axes._subplots.AxesSubplot object at 0x7f8a01e0ac90>,\n",
              "        <matplotlib.axes._subplots.AxesSubplot object at 0x7f8a01dcd250>,\n",
              "        <matplotlib.axes._subplots.AxesSubplot object at 0x7f8a01d807d0>,\n",
              "        <matplotlib.axes._subplots.AxesSubplot object at 0x7f8a01d36d50>,\n",
              "        <matplotlib.axes._subplots.AxesSubplot object at 0x7f8a01cf8310>,\n",
              "        <matplotlib.axes._subplots.AxesSubplot object at 0x7f8a01caf890>,\n",
              "        <matplotlib.axes._subplots.AxesSubplot object at 0x7f8a01c65e10>],\n",
              "       [<matplotlib.axes._subplots.AxesSubplot object at 0x7f8a01c273d0>,\n",
              "        <matplotlib.axes._subplots.AxesSubplot object at 0x7f8a01c5d950>,\n",
              "        <matplotlib.axes._subplots.AxesSubplot object at 0x7f8a01c12ed0>,\n",
              "        <matplotlib.axes._subplots.AxesSubplot object at 0x7f8a01bd5490>,\n",
              "        <matplotlib.axes._subplots.AxesSubplot object at 0x7f8a01b8aa10>,\n",
              "        <matplotlib.axes._subplots.AxesSubplot object at 0x7f8a01b3ff90>,\n",
              "        <matplotlib.axes._subplots.AxesSubplot object at 0x7f8a01b02550>,\n",
              "        <matplotlib.axes._subplots.AxesSubplot object at 0x7f8a01abaad0>,\n",
              "        <matplotlib.axes._subplots.AxesSubplot object at 0x7f8a01a63bd0>,\n",
              "        <matplotlib.axes._subplots.AxesSubplot object at 0x7f8a01a31610>,\n",
              "        <matplotlib.axes._subplots.AxesSubplot object at 0x7f8a019e5b90>],\n",
              "       [<matplotlib.axes._subplots.AxesSubplot object at 0x7f8a019ab110>,\n",
              "        <matplotlib.axes._subplots.AxesSubplot object at 0x7f8a019dd710>,\n",
              "        <matplotlib.axes._subplots.AxesSubplot object at 0x7f8a01993c90>,\n",
              "        <matplotlib.axes._subplots.AxesSubplot object at 0x7f8a01958250>,\n",
              "        <matplotlib.axes._subplots.AxesSubplot object at 0x7f8a0190d7d0>,\n",
              "        <matplotlib.axes._subplots.AxesSubplot object at 0x7f8a018c1d50>,\n",
              "        <matplotlib.axes._subplots.AxesSubplot object at 0x7f8a01885310>,\n",
              "        <matplotlib.axes._subplots.AxesSubplot object at 0x7f8a01839890>,\n",
              "        <matplotlib.axes._subplots.AxesSubplot object at 0x7f8a017eee10>,\n",
              "        <matplotlib.axes._subplots.AxesSubplot object at 0x7f8a017b03d0>,\n",
              "        <matplotlib.axes._subplots.AxesSubplot object at 0x7f8a01766950>],\n",
              "       [<matplotlib.axes._subplots.AxesSubplot object at 0x7f8a0179ded0>,\n",
              "        <matplotlib.axes._subplots.AxesSubplot object at 0x7f8a016e1490>,\n",
              "        <matplotlib.axes._subplots.AxesSubplot object at 0x7f8a01715a10>,\n",
              "        <matplotlib.axes._subplots.AxesSubplot object at 0x7f8a016caf90>,\n",
              "        <matplotlib.axes._subplots.AxesSubplot object at 0x7f8a0168c550>,\n",
              "        <matplotlib.axes._subplots.AxesSubplot object at 0x7f8a01641ad0>,\n",
              "        <matplotlib.axes._subplots.AxesSubplot object at 0x7f8a015eebd0>,\n",
              "        <matplotlib.axes._subplots.AxesSubplot object at 0x7f8a015bb610>,\n",
              "        <matplotlib.axes._subplots.AxesSubplot object at 0x7f8a01571b90>,\n",
              "        <matplotlib.axes._subplots.AxesSubplot object at 0x7f8a01534150>,\n",
              "        <matplotlib.axes._subplots.AxesSubplot object at 0x7f8a014e86d0>],\n",
              "       [<matplotlib.axes._subplots.AxesSubplot object at 0x7f8a0151dc50>,\n",
              "        <matplotlib.axes._subplots.AxesSubplot object at 0x7f8a01461210>,\n",
              "        <matplotlib.axes._subplots.AxesSubplot object at 0x7f8a01494790>,\n",
              "        <matplotlib.axes._subplots.AxesSubplot object at 0x7f8a0144bd10>,\n",
              "        <matplotlib.axes._subplots.AxesSubplot object at 0x7f8a0140e2d0>,\n",
              "        <matplotlib.axes._subplots.AxesSubplot object at 0x7f8a013c5850>,\n",
              "        <matplotlib.axes._subplots.AxesSubplot object at 0x7f8a01378dd0>,\n",
              "        <matplotlib.axes._subplots.AxesSubplot object at 0x7f8a0133b390>,\n",
              "        <matplotlib.axes._subplots.AxesSubplot object at 0x7f8a012f2910>,\n",
              "        <matplotlib.axes._subplots.AxesSubplot object at 0x7f8a012a7e90>,\n",
              "        <matplotlib.axes._subplots.AxesSubplot object at 0x7f8a01269450>],\n",
              "       [<matplotlib.axes._subplots.AxesSubplot object at 0x7f8a0129e9d0>,\n",
              "        <matplotlib.axes._subplots.AxesSubplot object at 0x7f8a01254f50>,\n",
              "        <matplotlib.axes._subplots.AxesSubplot object at 0x7f8a01216510>,\n",
              "        <matplotlib.axes._subplots.AxesSubplot object at 0x7f8a011cea90>,\n",
              "        <matplotlib.axes._subplots.AxesSubplot object at 0x7f8a01183fd0>,\n",
              "        <matplotlib.axes._subplots.AxesSubplot object at 0x7f8a011455d0>,\n",
              "        <matplotlib.axes._subplots.AxesSubplot object at 0x7f8a010fab50>,\n",
              "        <matplotlib.axes._subplots.AxesSubplot object at 0x7f8a010bd110>,\n",
              "        <matplotlib.axes._subplots.AxesSubplot object at 0x7f8a01073690>,\n",
              "        <matplotlib.axes._subplots.AxesSubplot object at 0x7f8a01028c10>,\n",
              "        <matplotlib.axes._subplots.AxesSubplot object at 0x7f8a00fea1d0>],\n",
              "       [<matplotlib.axes._subplots.AxesSubplot object at 0x7f8a00fa0750>,\n",
              "        <matplotlib.axes._subplots.AxesSubplot object at 0x7f8a00fd7cd0>,\n",
              "        <matplotlib.axes._subplots.AxesSubplot object at 0x7f8a00f9a290>,\n",
              "        <matplotlib.axes._subplots.AxesSubplot object at 0x7f8a00f4d810>,\n",
              "        <matplotlib.axes._subplots.AxesSubplot object at 0x7f8a00f02d90>,\n",
              "        <matplotlib.axes._subplots.AxesSubplot object at 0x7f8a00ec6350>,\n",
              "        <matplotlib.axes._subplots.AxesSubplot object at 0x7f8a00e7d8d0>,\n",
              "        <matplotlib.axes._subplots.AxesSubplot object at 0x7f8a00e32e50>,\n",
              "        <matplotlib.axes._subplots.AxesSubplot object at 0x7f8a00df5410>,\n",
              "        <matplotlib.axes._subplots.AxesSubplot object at 0x7f8a00dab990>,\n",
              "        <matplotlib.axes._subplots.AxesSubplot object at 0x7f8a00d60f10>],\n",
              "       [<matplotlib.axes._subplots.AxesSubplot object at 0x7f8a00d24490>,\n",
              "        <matplotlib.axes._subplots.AxesSubplot object at 0x7f8a00d59a50>,\n",
              "        <matplotlib.axes._subplots.AxesSubplot object at 0x7f8a00d02b50>,\n",
              "        <matplotlib.axes._subplots.AxesSubplot object at 0x7f8a00cd0590>,\n",
              "        <matplotlib.axes._subplots.AxesSubplot object at 0x7f8a00c85b10>,\n",
              "        <matplotlib.axes._subplots.AxesSubplot object at 0x7f8a00c490d0>,\n",
              "        <matplotlib.axes._subplots.AxesSubplot object at 0x7f8a00bff650>,\n",
              "        <matplotlib.axes._subplots.AxesSubplot object at 0x7f8a00bb3bd0>,\n",
              "        <matplotlib.axes._subplots.AxesSubplot object at 0x7f8a00b77190>,\n",
              "        <matplotlib.axes._subplots.AxesSubplot object at 0x7f8a00b2d710>,\n",
              "        <matplotlib.axes._subplots.AxesSubplot object at 0x7f8a00ae3c90>],\n",
              "       [<matplotlib.axes._subplots.AxesSubplot object at 0x7f8a00aa6250>,\n",
              "        <matplotlib.axes._subplots.AxesSubplot object at 0x7f8a00ada7d0>,\n",
              "        <matplotlib.axes._subplots.AxesSubplot object at 0x7f8a00a8fd50>,\n",
              "        <matplotlib.axes._subplots.AxesSubplot object at 0x7f8a00a52310>,\n",
              "        <matplotlib.axes._subplots.AxesSubplot object at 0x7f8a00a09890>,\n",
              "        <matplotlib.axes._subplots.AxesSubplot object at 0x7f8a009bde10>,\n",
              "        <matplotlib.axes._subplots.AxesSubplot object at 0x7f8a0097f3d0>,\n",
              "        <matplotlib.axes._subplots.AxesSubplot object at 0x7f8a00935950>,\n",
              "        <matplotlib.axes._subplots.AxesSubplot object at 0x7f8a008eaed0>,\n",
              "        <matplotlib.axes._subplots.AxesSubplot object at 0x7f8a008ad490>,\n",
              "        <matplotlib.axes._subplots.AxesSubplot object at 0x7f8a00863a10>],\n",
              "       [<matplotlib.axes._subplots.AxesSubplot object at 0x7f8a0089af90>,\n",
              "        <matplotlib.axes._subplots.AxesSubplot object at 0x7f8a0085b550>,\n",
              "        <matplotlib.axes._subplots.AxesSubplot object at 0x7f8a00812ad0>,\n",
              "        <matplotlib.axes._subplots.AxesSubplot object at 0x7f8a007bcbd0>,\n",
              "        <matplotlib.axes._subplots.AxesSubplot object at 0x7f8a00788610>,\n",
              "        <matplotlib.axes._subplots.AxesSubplot object at 0x7f8a0073db90>,\n",
              "        <matplotlib.axes._subplots.AxesSubplot object at 0x7f8a00701150>,\n",
              "        <matplotlib.axes._subplots.AxesSubplot object at 0x7f8a006b96d0>,\n",
              "        <matplotlib.axes._subplots.AxesSubplot object at 0x7f8a0066dc50>,\n",
              "        <matplotlib.axes._subplots.AxesSubplot object at 0x7f8a0062f210>,\n",
              "        <matplotlib.axes._subplots.AxesSubplot object at 0x7f8a005e5790>]],\n",
              "      dtype=object)"
            ]
          },
          "metadata": {
            "tags": []
          },
          "execution_count": 81
        },
        {
          "output_type": "display_data",
          "data": {
            "image/png": "[encoded data removed]",
            "text/plain": [
              "<Figure size 432x288 with 121 Axes>"
            ]
          },
          "metadata": {
            "tags": [],
            "needs_background": "light"
          }
        }
      ]
    },
    {
      "cell_type": "code",
      "metadata": {
        "colab": {
          "base_uri": "https://localhost:8080/",
          "height": 466
        },
        "id": "ZDUJ_jFoC2Be",
        "outputId": "d5d514b6-4fc8-4a63-d258-e6c9688f80c7"
      },
      "source": [
        "fig = plt.figure()\n",
        "ax = fig.add_subplot(111)\n",
        "cax = ax.matshow(gasturbines.corr(), vmin=-1, vmax=1)\n",
        "fig.colorbar(cax)\n",
        "ticks = np.arange(0,13,1)\n",
        "ax.set_xticks(ticks)\n",
        "ax.set_yticks(ticks)\n",
        "ax.set_xticklabels(gasturbines.columns)\n",
        "ax.set_yticklabels(gasturbines.columns)"
      ],
      "execution_count": 82,
      "outputs": [
        {
          "output_type": "execute_result",
          "data": {
            "text/plain": [
              "[Text(0, 0, 'AT'),\n",
              " Text(0, 0, 'AP'),\n",
              " Text(0, 0, 'AH'),\n",
              " Text(0, 0, 'AFDP'),\n",
              " Text(0, 0, 'GTEP'),\n",
              " Text(0, 0, 'TIT'),\n",
              " Text(0, 0, 'TAT'),\n",
              " Text(0, 0, 'TEY'),\n",
              " Text(0, 0, 'CDP'),\n",
              " Text(0, 0, 'CO'),\n",
              " Text(0, 0, 'NOX')]"
            ]
          },
          "metadata": {
            "tags": []
          },
          "execution_count": 82
        },
        {
          "output_type": "display_data",
          "data": {
            "image/png": "[encoded data removed]",
            "text/plain": [
              "<Figure size 432x288 with 2 Axes>"
            ]
          },
          "metadata": {
            "tags": [],
            "needs_background": "light"
          }
        }
      ]
    },
    {
      "cell_type": "code",
      "metadata": {
        "colab": {
          "base_uri": "https://localhost:8080/"
        },
        "id": "UuICxiyEC2MR",
        "outputId": "eba17343-7216-4099-8dae-4c734c3fbf04"
      },
      "source": [
        "print(\"Correlation:\", gasturbines.corr(method='pearson'))"
      ],
      "execution_count": 83,
      "outputs": [
        {
          "output_type": "stream",
          "text": [
            "Correlation:             AT        AP        AH  ...       CDP        CO       NOX\n",
            "AT    1.000000 -0.412953 -0.549432  ... -0.100705 -0.088588 -0.600006\n",
            "AP   -0.412953  1.000000  0.042573  ...  0.131198  0.041614  0.256744\n",
            "AH   -0.549432  0.042573  1.000000  ... -0.182010  0.165505  0.143061\n",
            "AFDP -0.099333  0.040318 -0.119249  ...  0.727152 -0.334207 -0.037299\n",
            "GTEP -0.049103  0.078575 -0.202784  ...  0.993784 -0.508259 -0.208496\n",
            "TIT   0.093067  0.029650 -0.247781  ...  0.887238 -0.688272 -0.231636\n",
            "TAT   0.338569 -0.223479  0.010859  ... -0.744740  0.063404  0.009888\n",
            "TEY  -0.207495  0.146939 -0.110272  ...  0.988473 -0.541751 -0.102631\n",
            "CDP  -0.100705  0.131198 -0.182010  ...  1.000000 -0.520783 -0.169103\n",
            "CO   -0.088588  0.041614  0.165505  ... -0.520783  1.000000  0.316743\n",
            "NOX  -0.600006  0.256744  0.143061  ... -0.169103  0.316743  1.000000\n",
            "\n",
            "[11 rows x 11 columns]\n"
          ],
          "name": "stdout"
        }
      ]
    },
    {
      "cell_type": "code",
      "metadata": {
        "id": "T8AWbBN4C2Z3"
      },
      "source": [
        ""
      ],
      "execution_count": 83,
      "outputs": []
    },
    {
      "cell_type": "code",
      "metadata": {
        "id": "gfqhnn2XCmN3"
      },
      "source": [
        ""
      ],
      "execution_count": 83,
      "outputs": []
    }
  ]
}