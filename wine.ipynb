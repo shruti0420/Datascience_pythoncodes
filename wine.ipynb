{
  "nbformat": 4,
  "nbformat_minor": 0,
  "metadata": {
    "colab": {
      "name": "wine.ipynb",
      "provenance": []
    },
    "kernelspec": {
      "name": "python3",
      "display_name": "Python 3"
    },
    "language_info": {
      "name": "python"
    }
  },
  "cells": [
    {
      "cell_type": "code",
      "metadata": {
        "id": "O9Oz55imDaD1"
      },
      "source": [
        "import pandas as pd \n",
        "import numpy as np\n",
        "from sklearn.decomposition import PCA\n",
        "import matplotlib.pyplot as plt\n",
        "from sklearn.preprocessing import scale \n",
        "from sklearn.cluster import KMeans"
      ],
      "execution_count": 1,
      "outputs": []
    },
    {
      "cell_type": "code",
      "metadata": {
        "colab": {
          "base_uri": "https://localhost:8080/",
          "height": 204
        },
        "id": "nmKwMN1UEYu1",
        "outputId": "9ee0a755-2b12-4b28-b961-5d61bf11c49a"
      },
      "source": [
        "wine = pd.read_csv(\"/content/wine.csv\")\n",
        "wine.describe()\n",
        "wine.head()"
      ],
      "execution_count": 2,
      "outputs": [
        {
          "output_type": "execute_result",
          "data": {
            "text/html": [
              "<div>\n",
              "<style scoped>\n",
              "    .dataframe tbody tr th:only-of-type {\n",
              "        vertical-align: middle;\n",
              "    }\n",
              "\n",
              "    .dataframe tbody tr th {\n",
              "        vertical-align: top;\n",
              "    }\n",
              "\n",
              "    .dataframe thead th {\n",
              "        text-align: right;\n",
              "    }\n",
              "</style>\n",
              "<table border=\"1\" class=\"dataframe\">\n",
              "  <thead>\n",
              "    <tr style=\"text-align: right;\">\n",
              "      <th></th>\n",
              "      <th>Type</th>\n",
              "      <th>Alcohol</th>\n",
              "      <th>Malic</th>\n",
              "      <th>Ash</th>\n",
              "      <th>Alcalinity</th>\n",
              "      <th>Magnesium</th>\n",
              "      <th>Phenols</th>\n",
              "      <th>Flavanoids</th>\n",
              "      <th>Nonflavanoids</th>\n",
              "      <th>Proanthocyanins</th>\n",
              "      <th>Color</th>\n",
              "      <th>Hue</th>\n",
              "      <th>Dilution</th>\n",
              "      <th>Proline</th>\n",
              "    </tr>\n",
              "  </thead>\n",
              "  <tbody>\n",
              "    <tr>\n",
              "      <th>0</th>\n",
              "      <td>1</td>\n",
              "      <td>14.23</td>\n",
              "      <td>1.71</td>\n",
              "      <td>2.43</td>\n",
              "      <td>15.6</td>\n",
              "      <td>127</td>\n",
              "      <td>2.80</td>\n",
              "      <td>3.06</td>\n",
              "      <td>0.28</td>\n",
              "      <td>2.29</td>\n",
              "      <td>5.64</td>\n",
              "      <td>1.04</td>\n",
              "      <td>3.92</td>\n",
              "      <td>1065</td>\n",
              "    </tr>\n",
              "    <tr>\n",
              "      <th>1</th>\n",
              "      <td>1</td>\n",
              "      <td>13.20</td>\n",
              "      <td>1.78</td>\n",
              "      <td>2.14</td>\n",
              "      <td>11.2</td>\n",
              "      <td>100</td>\n",
              "      <td>2.65</td>\n",
              "      <td>2.76</td>\n",
              "      <td>0.26</td>\n",
              "      <td>1.28</td>\n",
              "      <td>4.38</td>\n",
              "      <td>1.05</td>\n",
              "      <td>3.40</td>\n",
              "      <td>1050</td>\n",
              "    </tr>\n",
              "    <tr>\n",
              "      <th>2</th>\n",
              "      <td>1</td>\n",
              "      <td>13.16</td>\n",
              "      <td>2.36</td>\n",
              "      <td>2.67</td>\n",
              "      <td>18.6</td>\n",
              "      <td>101</td>\n",
              "      <td>2.80</td>\n",
              "      <td>3.24</td>\n",
              "      <td>0.30</td>\n",
              "      <td>2.81</td>\n",
              "      <td>5.68</td>\n",
              "      <td>1.03</td>\n",
              "      <td>3.17</td>\n",
              "      <td>1185</td>\n",
              "    </tr>\n",
              "    <tr>\n",
              "      <th>3</th>\n",
              "      <td>1</td>\n",
              "      <td>14.37</td>\n",
              "      <td>1.95</td>\n",
              "      <td>2.50</td>\n",
              "      <td>16.8</td>\n",
              "      <td>113</td>\n",
              "      <td>3.85</td>\n",
              "      <td>3.49</td>\n",
              "      <td>0.24</td>\n",
              "      <td>2.18</td>\n",
              "      <td>7.80</td>\n",
              "      <td>0.86</td>\n",
              "      <td>3.45</td>\n",
              "      <td>1480</td>\n",
              "    </tr>\n",
              "    <tr>\n",
              "      <th>4</th>\n",
              "      <td>1</td>\n",
              "      <td>13.24</td>\n",
              "      <td>2.59</td>\n",
              "      <td>2.87</td>\n",
              "      <td>21.0</td>\n",
              "      <td>118</td>\n",
              "      <td>2.80</td>\n",
              "      <td>2.69</td>\n",
              "      <td>0.39</td>\n",
              "      <td>1.82</td>\n",
              "      <td>4.32</td>\n",
              "      <td>1.04</td>\n",
              "      <td>2.93</td>\n",
              "      <td>735</td>\n",
              "    </tr>\n",
              "  </tbody>\n",
              "</table>\n",
              "</div>"
            ],
            "text/plain": [
              "   Type  Alcohol  Malic   Ash  ...  Color   Hue  Dilution  Proline\n",
              "0     1    14.23   1.71  2.43  ...   5.64  1.04      3.92     1065\n",
              "1     1    13.20   1.78  2.14  ...   4.38  1.05      3.40     1050\n",
              "2     1    13.16   2.36  2.67  ...   5.68  1.03      3.17     1185\n",
              "3     1    14.37   1.95  2.50  ...   7.80  0.86      3.45     1480\n",
              "4     1    13.24   2.59  2.87  ...   4.32  1.04      2.93      735\n",
              "\n",
              "[5 rows x 14 columns]"
            ]
          },
          "metadata": {
            "tags": []
          },
          "execution_count": 2
        }
      ]
    },
    {
      "cell_type": "code",
      "metadata": {
        "colab": {
          "base_uri": "https://localhost:8080/"
        },
        "id": "6k3VQU2LErW0",
        "outputId": "98687ade-5187-43a2-da2b-ba150bbf8bef"
      },
      "source": [
        "wine.data = wine.iloc[:,2:]\n",
        "wine.data.head()\n",
        "WINE = wine.data.values\n",
        "WINE"
      ],
      "execution_count": 3,
      "outputs": [
        {
          "output_type": "stream",
          "text": [
            "/usr/local/lib/python3.7/dist-packages/ipykernel_launcher.py:1: UserWarning: Pandas doesn't allow columns to be created via a new attribute name - see https://pandas.pydata.org/pandas-docs/stable/indexing.html#attribute-access\n",
            "  \"\"\"Entry point for launching an IPython kernel.\n"
          ],
          "name": "stderr"
        },
        {
          "output_type": "execute_result",
          "data": {
            "text/plain": [
              "array([[1.710e+00, 2.430e+00, 1.560e+01, ..., 1.040e+00, 3.920e+00,\n",
              "        1.065e+03],\n",
              "       [1.780e+00, 2.140e+00, 1.120e+01, ..., 1.050e+00, 3.400e+00,\n",
              "        1.050e+03],\n",
              "       [2.360e+00, 2.670e+00, 1.860e+01, ..., 1.030e+00, 3.170e+00,\n",
              "        1.185e+03],\n",
              "       ...,\n",
              "       [4.280e+00, 2.260e+00, 2.000e+01, ..., 5.900e-01, 1.560e+00,\n",
              "        8.350e+02],\n",
              "       [2.590e+00, 2.370e+00, 2.000e+01, ..., 6.000e-01, 1.620e+00,\n",
              "        8.400e+02],\n",
              "       [4.100e+00, 2.740e+00, 2.450e+01, ..., 6.100e-01, 1.600e+00,\n",
              "        5.600e+02]])"
            ]
          },
          "metadata": {
            "tags": []
          },
          "execution_count": 3
        }
      ]
    },
    {
      "cell_type": "code",
      "metadata": {
        "id": "qd53uOLWE3WT"
      },
      "source": [
        "wine_normal = scale(WINE)"
      ],
      "execution_count": 4,
      "outputs": []
    },
    {
      "cell_type": "code",
      "metadata": {
        "colab": {
          "base_uri": "https://localhost:8080/"
        },
        "id": "Wba_f_zLFLSM",
        "outputId": "80bd6a95-e93a-488e-8aca-38079413d2e7"
      },
      "source": [
        "wine_normal"
      ],
      "execution_count": 5,
      "outputs": [
        {
          "output_type": "execute_result",
          "data": {
            "text/plain": [
              "array([[-0.5622498 ,  0.23205254, -1.16959318, ...,  0.36217728,\n",
              "         1.84791957,  1.01300893],\n",
              "       [-0.49941338, -0.82799632, -2.49084714, ...,  0.40605066,\n",
              "         1.1134493 ,  0.96524152],\n",
              "       [ 0.02123125,  1.10933436, -0.2687382 , ...,  0.31830389,\n",
              "         0.78858745,  1.39514818],\n",
              "       ...,\n",
              "       [ 1.74474449, -0.38935541,  0.15166079, ..., -1.61212515,\n",
              "        -1.48544548,  0.28057537],\n",
              "       [ 0.22769377,  0.01273209,  0.15166079, ..., -1.56825176,\n",
              "        -1.40069891,  0.29649784],\n",
              "       [ 1.58316512,  1.36520822,  1.50294326, ..., -1.52437837,\n",
              "        -1.42894777, -0.59516041]])"
            ]
          },
          "metadata": {
            "tags": []
          },
          "execution_count": 5
        }
      ]
    },
    {
      "cell_type": "code",
      "metadata": {
        "id": "MTR3goXkFTyC"
      },
      "source": [
        "pca = PCA()\n",
        "pca_values = pca.fit_transform(wine_normal)"
      ],
      "execution_count": 6,
      "outputs": []
    },
    {
      "cell_type": "code",
      "metadata": {
        "colab": {
          "base_uri": "https://localhost:8080/"
        },
        "id": "4KdxcsqWFaEk",
        "outputId": "9ef0074b-3c3b-4f5c-bc0b-a33af0878b5f"
      },
      "source": [
        "pca_values"
      ],
      "execution_count": 7,
      "outputs": [
        {
          "output_type": "execute_result",
          "data": {
            "text/plain": [
              "array([[-3.07857252, -1.2192618 , -0.38806977, ...,  0.11988943,\n",
              "         0.88805186, -0.07321096],\n",
              "       [-2.19079587,  0.66456824, -1.92210947, ..., -0.18027824,\n",
              "         0.28014967,  0.01377333],\n",
              "       [-2.45644079, -1.5058111 ,  0.55648903, ..., -0.48294544,\n",
              "        -0.13761134,  0.02907391],\n",
              "       ...,\n",
              "       [ 2.88825847, -2.42076977, -1.66541827, ...,  0.45903343,\n",
              "         0.48941557,  0.08736234],\n",
              "       [ 2.55190832, -2.08637202, -1.17521266, ...,  0.42545762,\n",
              "         0.26549105, -0.01447492],\n",
              "       [ 3.53573264, -2.12257387,  0.88160906, ..., -0.04465287,\n",
              "         0.07663817, -0.33835467]])"
            ]
          },
          "metadata": {
            "tags": []
          },
          "execution_count": 7
        }
      ]
    },
    {
      "cell_type": "code",
      "metadata": {
        "id": "P8ywOtzwFeWN"
      },
      "source": [
        "pca = PCA(n_components = 6)\n",
        "pca_values = pca.fit_transform(wine_normal)"
      ],
      "execution_count": 8,
      "outputs": []
    },
    {
      "cell_type": "code",
      "metadata": {
        "colab": {
          "base_uri": "https://localhost:8080/"
        },
        "id": "Vv0Z8yL9Fk84",
        "outputId": "6db945ab-2359-4955-c537-9bb8ca9b6c5a"
      },
      "source": [
        "pca_values"
      ],
      "execution_count": 9,
      "outputs": [
        {
          "output_type": "execute_result",
          "data": {
            "text/plain": [
              "array([[-3.07857252, -1.2192618 , -0.38806977, -0.23952306,  0.72619786,\n",
              "        -0.05320974],\n",
              "       [-2.19079587,  0.66456824, -1.92210947, -0.29141065, -0.36571827,\n",
              "        -1.26039775],\n",
              "       [-2.45644079, -1.5058111 ,  0.55648903,  0.72359583, -0.5295299 ,\n",
              "         0.24579966],\n",
              "       ...,\n",
              "       [ 2.88825847, -2.42076977, -1.66541827,  0.24630546,  0.74746192,\n",
              "         0.10658114],\n",
              "       [ 2.55190832, -2.08637202, -1.17521266, -0.73770715,  0.16147361,\n",
              "         0.94319371],\n",
              "       [ 3.53573264, -2.12257387,  0.88160906,  0.63303374, -0.7277836 ,\n",
              "         0.34140339]])"
            ]
          },
          "metadata": {
            "tags": []
          },
          "execution_count": 9
        }
      ]
    },
    {
      "cell_type": "code",
      "metadata": {
        "colab": {
          "base_uri": "https://localhost:8080/"
        },
        "id": "ViZi_xcqFpK7",
        "outputId": "8b9fa4b3-c006-4f1c-b23b-8e97f1fc3763"
      },
      "source": [
        "var = pca.explained_variance_ratio_\n",
        "var"
      ],
      "execution_count": 10,
      "outputs": [
        {
          "output_type": "execute_result",
          "data": {
            "text/plain": [
              "array([0.38612318, 0.16881157, 0.11376556, 0.07656743, 0.06636326,\n",
              "       0.05077993])"
            ]
          },
          "metadata": {
            "tags": []
          },
          "execution_count": 10
        }
      ]
    },
    {
      "cell_type": "code",
      "metadata": {
        "colab": {
          "base_uri": "https://localhost:8080/"
        },
        "id": "RFvrimVSFuVZ",
        "outputId": "6c606f72-0d7e-4ec4-9955-b63f921216d8"
      },
      "source": [
        "var1 = np.cumsum(np.round(var,decimals = 4)*100)\n",
        "var1"
      ],
      "execution_count": 11,
      "outputs": [
        {
          "output_type": "execute_result",
          "data": {
            "text/plain": [
              "array([38.61, 55.49, 66.87, 74.53, 81.17, 86.25])"
            ]
          },
          "metadata": {
            "tags": []
          },
          "execution_count": 11
        }
      ]
    },
    {
      "cell_type": "code",
      "metadata": {
        "colab": {
          "base_uri": "https://localhost:8080/"
        },
        "id": "w7uKB6DkF0Bi",
        "outputId": "e8ef6a0f-90fd-41d0-da80-3bd022b3af77"
      },
      "source": [
        "pca.components_"
      ],
      "execution_count": 12,
      "outputs": [
        {
          "output_type": "execute_result",
          "data": {
            "text/plain": [
              "array([[ 0.25929907,  0.01550401,  0.23457717, -0.12997254, -0.39396388,\n",
              "        -0.4262194 ,  0.30156031, -0.31599638,  0.12050505, -0.31314859,\n",
              "        -0.38744   , -0.26504376],\n",
              "       [-0.22363659, -0.45446769, -0.08389744, -0.41000066, -0.14109614,\n",
              "        -0.07041646, -0.01025314, -0.13306564, -0.53637656,  0.27207746,\n",
              "         0.11846639, -0.38712793],\n",
              "       [ 0.04407439,  0.54359695,  0.6257736 , -0.04358717,  0.1067167 ,\n",
              "         0.13134819,  0.21696829,  0.07955089, -0.30000831,  0.18463194,\n",
              "         0.2156754 , -0.23751456],\n",
              "       [ 0.53647394, -0.20779976,  0.06350945, -0.37846661,  0.20173256,\n",
              "         0.15565564, -0.1863573 ,  0.3918301 ,  0.06138937, -0.41833833,\n",
              "         0.19055586, -0.23124193],\n",
              "       [ 0.12527868, -0.11626212,  0.17317714,  0.65986637, -0.18791061,\n",
              "        -0.11683611, -0.54518489,  0.03906619, -0.27707183, -0.09913243,\n",
              "         0.00238728, -0.26656873],\n",
              "       [-0.5878703 , -0.19640955,  0.26881966,  0.04352827,  0.01066728,\n",
              "        -0.019332  ,  0.08531943,  0.53577275,  0.30882872, -0.09675608,\n",
              "        -0.24036268, -0.29041792]])"
            ]
          },
          "metadata": {
            "tags": []
          },
          "execution_count": 12
        }
      ]
    },
    {
      "cell_type": "code",
      "metadata": {
        "colab": {
          "base_uri": "https://localhost:8080/",
          "height": 283
        },
        "id": "1ACS3pGRF38b",
        "outputId": "f94015c6-0a67-4bef-87e5-3f5c094912c8"
      },
      "source": [
        "plt.plot(var1,color=\"blue\")"
      ],
      "execution_count": 13,
      "outputs": [
        {
          "output_type": "execute_result",
          "data": {
            "text/plain": [
              "[<matplotlib.lines.Line2D at 0x7fb4d16f0bd0>]"
            ]
          },
          "metadata": {
            "tags": []
          },
          "execution_count": 13
        },
        {
          "output_type": "display_data",
          "data": {
            "image/png": "[encoded data removed]",
            "text/plain": [
              "<Figure size 432x288 with 1 Axes>"
            ]
          },
          "metadata": {
            "tags": [],
            "needs_background": "light"
          }
        }
      ]
    },
    {
      "cell_type": "code",
      "metadata": {
        "colab": {
          "base_uri": "https://localhost:8080/"
        },
        "id": "D9ShR7ehF82F",
        "outputId": "fbfee7db-e06c-4be9-c4cb-4281eb2828dd"
      },
      "source": [
        "pca_values[:,0:1]"
      ],
      "execution_count": 14,
      "outputs": [
        {
          "output_type": "execute_result",
          "data": {
            "text/plain": [
              "array([[-3.07857252],\n",
              "       [-2.19079587],\n",
              "       [-2.45644079],\n",
              "       [-3.42275012],\n",
              "       [-0.94897588],\n",
              "       [-2.76731538],\n",
              "       [-2.18375478],\n",
              "       [-1.8263214 ],\n",
              "       [-2.19383381],\n",
              "       [-2.59000186],\n",
              "       [-3.26089058],\n",
              "       [-1.55488981],\n",
              "       [-1.96567565],\n",
              "       [-3.14743458],\n",
              "       [-4.00629989],\n",
              "       [-2.13051424],\n",
              "       [-1.87351026],\n",
              "       [-1.70365337],\n",
              "       [-3.238178  ],\n",
              "       [-1.94408078],\n",
              "       [-2.94642239],\n",
              "       [-1.09489837],\n",
              "       [-2.4456023 ],\n",
              "       [-1.70081887],\n",
              "       [-1.72046805],\n",
              "       [-0.96736682],\n",
              "       [-1.68327066],\n",
              "       [-1.18897314],\n",
              "       [-2.0440134 ],\n",
              "       [-2.09994017],\n",
              "       [-2.34841466],\n",
              "       [-2.52075473],\n",
              "       [-1.5334142 ],\n",
              "       [-1.7198793 ],\n",
              "       [-1.3083414 ],\n",
              "       [-1.83755336],\n",
              "       [-1.3168969 ],\n",
              "       [-1.11112978],\n",
              "       [-1.52935162],\n",
              "       [-2.26855413],\n",
              "       [-2.48051126],\n",
              "       [-0.59309439],\n",
              "       [-2.8906988 ],\n",
              "       [-0.41033555],\n",
              "       [-2.10640792],\n",
              "       [-0.86600621],\n",
              "       [-2.46912895],\n",
              "       [-2.66233557],\n",
              "       [-1.79238877],\n",
              "       [-2.48106588],\n",
              "       [-3.1995661 ],\n",
              "       [-2.70863693],\n",
              "       [-3.30914168],\n",
              "       [-2.01983884],\n",
              "       [-1.98998508],\n",
              "       [-2.33599174],\n",
              "       [-2.49834559],\n",
              "       [-2.07297273],\n",
              "       [-2.95350312],\n",
              "       [ 0.70683315],\n",
              "       [ 1.38832992],\n",
              "       [ 1.76047005],\n",
              "       [ 0.01105008],\n",
              "       [-2.2598386 ],\n",
              "       [ 0.3822386 ],\n",
              "       [-1.04368873],\n",
              "       [-2.33350506],\n",
              "       [-0.39805425],\n",
              "       [ 0.86055147],\n",
              "       [-2.18485283],\n",
              "       [ 1.42999392],\n",
              "       [-1.61060826],\n",
              "       [ 0.73961492],\n",
              "       [-2.59665544],\n",
              "       [-2.06978517],\n",
              "       [ 0.55456571],\n",
              "       [-0.47016892],\n",
              "       [ 1.22046347],\n",
              "       [-1.41338684],\n",
              "       [-0.49264144],\n",
              "       [-1.09498354],\n",
              "       [-1.15638321],\n",
              "       [ 0.22604582],\n",
              "       [ 2.55318101],\n",
              "       [-1.09912479],\n",
              "       [-0.95201691],\n",
              "       [ 0.5597473 ],\n",
              "       [ 0.21988087],\n",
              "       [ 0.82100293],\n",
              "       [ 0.27649687],\n",
              "       [ 1.10814613],\n",
              "       [ 1.31998481],\n",
              "       [ 1.81288074],\n",
              "       [-0.98371011],\n",
              "       [-1.28800285],\n",
              "       [-2.64859229],\n",
              "       [ 0.33316724],\n",
              "       [-1.27328088],\n",
              "       [-2.43305098],\n",
              "       [-1.64614423],\n",
              "       [-1.05439325],\n",
              "       [ 0.37741742],\n",
              "       [-0.00680406],\n",
              "       [ 0.34814452],\n",
              "       [-0.57625691],\n",
              "       [ 1.59681566],\n",
              "       [ 0.144779  ],\n",
              "       [ 1.51045565],\n",
              "       [-0.32530783],\n",
              "       [-1.88444662],\n",
              "       [-1.74171119],\n",
              "       [ 0.1012734 ],\n",
              "       [ 1.07829508],\n",
              "       [ 0.09575442],\n",
              "       [ 0.24862544],\n",
              "       [-0.99109873],\n",
              "       [-0.07190014],\n",
              "       [-0.09470695],\n",
              "       [ 2.35957561],\n",
              "       [ 0.28861632],\n",
              "       [-1.05485141],\n",
              "       [-1.5802763 ],\n",
              "       [ 1.03771031],\n",
              "       [ 0.43320717],\n",
              "       [-1.24124001],\n",
              "       [-0.15682837],\n",
              "       [-0.19904169],\n",
              "       [ 1.33738559],\n",
              "       [ 0.26961259],\n",
              "       [ 1.59737634],\n",
              "       [ 1.32306353],\n",
              "       [ 2.40217969],\n",
              "       [ 2.9366929 ],\n",
              "       [ 2.13434433],\n",
              "       [ 2.29618122],\n",
              "       [ 3.05300156],\n",
              "       [ 3.83902203],\n",
              "       [ 3.91586253],\n",
              "       [ 3.21223723],\n",
              "       [ 2.37217303],\n",
              "       [ 2.79724949],\n",
              "       [ 2.38197167],\n",
              "       [ 3.09854735],\n",
              "       [ 2.50926996],\n",
              "       [ 2.18540044],\n",
              "       [ 2.69749687],\n",
              "       [ 4.47920138],\n",
              "       [ 3.6584858 ],\n",
              "       [ 2.95903025],\n",
              "       [ 3.03887024],\n",
              "       [ 2.52312836],\n",
              "       [ 2.64203389],\n",
              "       [ 1.90193209],\n",
              "       [ 2.9337089 ],\n",
              "       [ 2.71845248],\n",
              "       [ 3.75138135],\n",
              "       [ 3.13955219],\n",
              "       [ 3.3937774 ],\n",
              "       [ 1.42965244],\n",
              "       [ 1.81587351],\n",
              "       [ 3.11111119],\n",
              "       [ 2.41908834],\n",
              "       [ 2.86676289],\n",
              "       [ 2.64929546],\n",
              "       [ 3.17230335],\n",
              "       [ 3.70850055],\n",
              "       [ 2.62319095],\n",
              "       [ 3.00243461],\n",
              "       [ 2.38351767],\n",
              "       [ 2.58180957],\n",
              "       [ 3.10524912],\n",
              "       [ 3.72399573],\n",
              "       [ 2.77583186],\n",
              "       [ 3.6206164 ],\n",
              "       [ 2.7681769 ],\n",
              "       [ 2.88825847],\n",
              "       [ 2.55190832],\n",
              "       [ 3.53573264]])"
            ]
          },
          "metadata": {
            "tags": []
          },
          "execution_count": 14
        }
      ]
    },
    {
      "cell_type": "code",
      "metadata": {
        "colab": {
          "base_uri": "https://localhost:8080/",
          "height": 283
        },
        "id": "SGr5oqUfGAcy",
        "outputId": "d846bcd3-3911-41a9-dc50-f1de777cdc61"
      },
      "source": [
        "x = pca_values[:,0:1]\n",
        "y = pca_values[:,1:2]\n",
        "plt.scatter(x,y)"
      ],
      "execution_count": 15,
      "outputs": [
        {
          "output_type": "execute_result",
          "data": {
            "text/plain": [
              "<matplotlib.collections.PathCollection at 0x7fb4d1249bd0>"
            ]
          },
          "metadata": {
            "tags": []
          },
          "execution_count": 15
        },
        {
          "output_type": "display_data",
          "data": {
            "image/png": "[encoded data removed]",
            "text/plain": [
              "<Figure size 432x288 with 1 Axes>"
            ]
          },
          "metadata": {
            "tags": [],
            "needs_background": "light"
          }
        }
      ]
    },
    {
      "cell_type": "code",
      "metadata": {
        "id": "SV8Abbo5GLi2"
      },
      "source": [
        "finalDf = pd.concat([pd.DataFrame(pca_values[:,0:2],columns=['pc1','pc2']), wine[['Type']]], axis = 1)"
      ],
      "execution_count": 16,
      "outputs": []
    },
    {
      "cell_type": "code",
      "metadata": {
        "colab": {
          "base_uri": "https://localhost:8080/",
          "height": 297
        },
        "id": "10oZK2BOHxbp",
        "outputId": "f1a9af9a-dc42-4948-f04e-49d4c0e72e93"
      },
      "source": [
        "import seaborn as sns\n",
        "sns.scatterplot(data=finalDf,x='pc1',y='pc2',hue='Type')"
      ],
      "execution_count": 17,
      "outputs": [
        {
          "output_type": "execute_result",
          "data": {
            "text/plain": [
              "<matplotlib.axes._subplots.AxesSubplot at 0x7fb4d0990b50>"
            ]
          },
          "metadata": {
            "tags": []
          },
          "execution_count": 17
        },
        {
          "output_type": "display_data",
          "data": {
            "image/png": "[encoded data removed]",
            "text/plain": [
              "<Figure size 432x288 with 1 Axes>"
            ]
          },
          "metadata": {
            "tags": [],
            "needs_background": "light"
          }
        }
      ]
    },
    {
      "cell_type": "code",
      "metadata": {
        "id": "Lo99ErmzKVGl"
      },
      "source": [
        "wine = pd.read_csv(\"/content/wine.csv\")"
      ],
      "execution_count": 18,
      "outputs": []
    },
    {
      "cell_type": "code",
      "metadata": {
        "id": "Y3YCqbCsKklC"
      },
      "source": [
        "from sklearn.preprocessing import StandardScaler\n",
        "scaler = StandardScaler()\n",
        "scaled_wine_df = scaler.fit_transform(wine.iloc[:,1:])"
      ],
      "execution_count": 19,
      "outputs": []
    },
    {
      "cell_type": "code",
      "metadata": {
        "colab": {
          "base_uri": "https://localhost:8080/",
          "height": 295
        },
        "id": "yTtGoa_nK2DM",
        "outputId": "e6ee09fb-0731-4f5d-bccb-3f86869509b8"
      },
      "source": [
        "wcss = []\n",
        "for i in range(1, 11):\n",
        "    kmeans = KMeans(n_clusters=i,random_state=0)\n",
        "    kmeans.fit(scaled_wine_df)\n",
        "    wcss.append(kmeans.inertia_)\n",
        "    \n",
        "plt.plot(range(1, 11), wcss)\n",
        "plt.title('Elbow Method')\n",
        "plt.xlabel('Number of clusters')\n",
        "plt.ylabel('WCSS')\n",
        "plt.show()"
      ],
      "execution_count": 20,
      "outputs": [
        {
          "output_type": "display_data",
          "data": {
            "image/png": "[encoded data removed]",
            "text/plain": [
              "<Figure size 432x288 with 1 Axes>"
            ]
          },
          "metadata": {
            "tags": [],
            "needs_background": "light"
          }
        }
      ]
    },
    {
      "cell_type": "code",
      "metadata": {
        "colab": {
          "base_uri": "https://localhost:8080/"
        },
        "id": "vArYyeFaLIg6",
        "outputId": "ef9fd2e7-70ef-4251-fbe9-e81e7f4a7646"
      },
      "source": [
        "from sklearn.cluster import KMeans\n",
        "clusters_new = KMeans(4, random_state=42)\n",
        "clusters_new.fit(scaled_wine_df)"
      ],
      "execution_count": 21,
      "outputs": [
        {
          "output_type": "execute_result",
          "data": {
            "text/plain": [
              "KMeans(algorithm='auto', copy_x=True, init='k-means++', max_iter=300,\n",
              "       n_clusters=4, n_init=10, n_jobs=None, precompute_distances='auto',\n",
              "       random_state=42, tol=0.0001, verbose=0)"
            ]
          },
          "metadata": {
            "tags": []
          },
          "execution_count": 21
        }
      ]
    },
    {
      "cell_type": "code",
      "metadata": {
        "colab": {
          "base_uri": "https://localhost:8080/"
        },
        "id": "ciX0hBRTLvye",
        "outputId": "2b7496f0-a5bc-4655-dc63-2afeb4f86c04"
      },
      "source": [
        "clusters_new.labels_"
      ],
      "execution_count": 22,
      "outputs": [
        {
          "output_type": "execute_result",
          "data": {
            "text/plain": [
              "array([2, 2, 2, 2, 1, 2, 2, 2, 2, 2, 2, 2, 2, 2, 2, 2, 2, 2, 2, 2, 2, 1,\n",
              "       2, 2, 1, 1, 2, 2, 2, 2, 2, 2, 2, 2, 2, 2, 2, 2, 2, 2, 2, 2, 2, 1,\n",
              "       2, 2, 2, 2, 2, 2, 2, 2, 2, 2, 2, 2, 2, 2, 2, 0, 0, 0, 0, 1, 0, 1,\n",
              "       1, 0, 0, 2, 0, 1, 0, 1, 1, 0, 0, 0, 2, 1, 0, 1, 0, 3, 1, 0, 0, 0,\n",
              "       0, 0, 0, 0, 0, 1, 1, 2, 1, 0, 1, 1, 0, 0, 1, 0, 0, 0, 0, 0, 0, 1,\n",
              "       1, 0, 0, 0, 0, 0, 0, 0, 0, 0, 1, 1, 1, 1, 1, 0, 1, 0, 0, 0, 3, 3,\n",
              "       3, 3, 3, 3, 3, 3, 3, 3, 3, 3, 3, 3, 3, 3, 3, 3, 3, 3, 3, 3, 3, 3,\n",
              "       3, 3, 3, 3, 3, 3, 3, 3, 3, 3, 3, 3, 3, 3, 3, 3, 3, 3, 3, 3, 3, 3,\n",
              "       3, 3], dtype=int32)"
            ]
          },
          "metadata": {
            "tags": []
          },
          "execution_count": 22
        }
      ]
    },
    {
      "cell_type": "code",
      "metadata": {
        "id": "geziaQfTL1rC"
      },
      "source": [
        "wine['clusterid_new'] = clusters_new.labels_"
      ],
      "execution_count": 23,
      "outputs": []
    },
    {
      "cell_type": "code",
      "metadata": {
        "colab": {
          "base_uri": "https://localhost:8080/"
        },
        "id": "rdT7BgOjL4nZ",
        "outputId": "76d501d4-d9ec-445e-9a29-84db7c52299e"
      },
      "source": [
        "clusters_new.cluster_centers_"
      ],
      "execution_count": 24,
      "outputs": [
        {
          "output_type": "execute_result",
          "data": {
            "text/plain": [
              "array([[-0.92047428, -0.54205238, -0.65270611,  0.16803997, -0.71111627,\n",
              "        -0.46194286, -0.25847272,  0.35865056, -0.45114377, -0.92988738,\n",
              "         0.51334104,  0.06374748, -0.79969176],\n",
              "       [-0.68677659,  0.0718851 ,  0.29602101,  0.4036857 , -0.03451498,\n",
              "         0.73975378,  0.68092069, -0.54732939,  0.71427661, -0.67691821,\n",
              "         0.26816287,  0.71544309, -0.55751515],\n",
              "       [ 0.88754384, -0.3948435 ,  0.1441961 , -0.829797  ,  0.60941526,\n",
              "         0.8430118 ,  0.92772917, -0.62422186,  0.64177809,  0.20056735,\n",
              "         0.49610656,  0.71821311,  1.21787802],\n",
              "       [ 0.18654314,  0.90497145,  0.24921026,  0.58370348, -0.05063539,\n",
              "        -0.988557  , -1.23619475,  0.71684172, -0.74960756,  0.98849829,\n",
              "        -1.19129878, -1.30153966, -0.38004461]])"
            ]
          },
          "metadata": {
            "tags": []
          },
          "execution_count": 24
        }
      ]
    },
    {
      "cell_type": "code",
      "metadata": {
        "colab": {
          "base_uri": "https://localhost:8080/",
          "height": 224
        },
        "id": "bbD0pwqrL7zG",
        "outputId": "62672dec-d6dd-495e-f45f-9bf0190d2b4e"
      },
      "source": [
        "wine.groupby('clusterid_new').agg(['mean']).reset_index()"
      ],
      "execution_count": 25,
      "outputs": [
        {
          "output_type": "execute_result",
          "data": {
            "text/html": [
              "<div>\n",
              "<style scoped>\n",
              "    .dataframe tbody tr th:only-of-type {\n",
              "        vertical-align: middle;\n",
              "    }\n",
              "\n",
              "    .dataframe tbody tr th {\n",
              "        vertical-align: top;\n",
              "    }\n",
              "\n",
              "    .dataframe thead tr th {\n",
              "        text-align: left;\n",
              "    }\n",
              "</style>\n",
              "<table border=\"1\" class=\"dataframe\">\n",
              "  <thead>\n",
              "    <tr>\n",
              "      <th></th>\n",
              "      <th>clusterid_new</th>\n",
              "      <th>Type</th>\n",
              "      <th>Alcohol</th>\n",
              "      <th>Malic</th>\n",
              "      <th>Ash</th>\n",
              "      <th>Alcalinity</th>\n",
              "      <th>Magnesium</th>\n",
              "      <th>Phenols</th>\n",
              "      <th>Flavanoids</th>\n",
              "      <th>Nonflavanoids</th>\n",
              "      <th>Proanthocyanins</th>\n",
              "      <th>Color</th>\n",
              "      <th>Hue</th>\n",
              "      <th>Dilution</th>\n",
              "      <th>Proline</th>\n",
              "    </tr>\n",
              "    <tr>\n",
              "      <th></th>\n",
              "      <th></th>\n",
              "      <th>mean</th>\n",
              "      <th>mean</th>\n",
              "      <th>mean</th>\n",
              "      <th>mean</th>\n",
              "      <th>mean</th>\n",
              "      <th>mean</th>\n",
              "      <th>mean</th>\n",
              "      <th>mean</th>\n",
              "      <th>mean</th>\n",
              "      <th>mean</th>\n",
              "      <th>mean</th>\n",
              "      <th>mean</th>\n",
              "      <th>mean</th>\n",
              "      <th>mean</th>\n",
              "    </tr>\n",
              "  </thead>\n",
              "  <tbody>\n",
              "    <tr>\n",
              "      <th>0</th>\n",
              "      <td>0</td>\n",
              "      <td>2.000000</td>\n",
              "      <td>12.255455</td>\n",
              "      <td>1.732500</td>\n",
              "      <td>2.187955</td>\n",
              "      <td>20.054545</td>\n",
              "      <td>89.613636</td>\n",
              "      <td>2.006818</td>\n",
              "      <td>1.771818</td>\n",
              "      <td>0.406364</td>\n",
              "      <td>1.333409</td>\n",
              "      <td>2.908409</td>\n",
              "      <td>1.074455</td>\n",
              "      <td>2.656818</td>\n",
              "      <td>495.772727</td>\n",
              "    </tr>\n",
              "    <tr>\n",
              "      <th>1</th>\n",
              "      <td>1</td>\n",
              "      <td>1.821429</td>\n",
              "      <td>12.444643</td>\n",
              "      <td>2.416429</td>\n",
              "      <td>2.447500</td>\n",
              "      <td>20.839286</td>\n",
              "      <td>99.250000</td>\n",
              "      <td>2.756786</td>\n",
              "      <td>2.707500</td>\n",
              "      <td>0.293929</td>\n",
              "      <td>1.998571</td>\n",
              "      <td>3.493214</td>\n",
              "      <td>1.018571</td>\n",
              "      <td>3.118214</td>\n",
              "      <td>571.821429</td>\n",
              "    </tr>\n",
              "    <tr>\n",
              "      <th>2</th>\n",
              "      <td>2</td>\n",
              "      <td>1.052632</td>\n",
              "      <td>13.719123</td>\n",
              "      <td>1.896491</td>\n",
              "      <td>2.405965</td>\n",
              "      <td>16.731579</td>\n",
              "      <td>108.421053</td>\n",
              "      <td>2.821228</td>\n",
              "      <td>2.953333</td>\n",
              "      <td>0.284386</td>\n",
              "      <td>1.957193</td>\n",
              "      <td>5.521754</td>\n",
              "      <td>1.070526</td>\n",
              "      <td>3.120175</td>\n",
              "      <td>1129.333333</td>\n",
              "    </tr>\n",
              "    <tr>\n",
              "      <th>3</th>\n",
              "      <td>3</td>\n",
              "      <td>2.979592</td>\n",
              "      <td>13.151633</td>\n",
              "      <td>3.344490</td>\n",
              "      <td>2.434694</td>\n",
              "      <td>21.438776</td>\n",
              "      <td>99.020408</td>\n",
              "      <td>1.678163</td>\n",
              "      <td>0.797959</td>\n",
              "      <td>0.450816</td>\n",
              "      <td>1.163061</td>\n",
              "      <td>7.343265</td>\n",
              "      <td>0.685918</td>\n",
              "      <td>1.690204</td>\n",
              "      <td>627.551020</td>\n",
              "    </tr>\n",
              "  </tbody>\n",
              "</table>\n",
              "</div>"
            ],
            "text/plain": [
              "  clusterid_new      Type    Alcohol  ...       Hue  Dilution      Proline\n",
              "                     mean       mean  ...      mean      mean         mean\n",
              "0             0  2.000000  12.255455  ...  1.074455  2.656818   495.772727\n",
              "1             1  1.821429  12.444643  ...  1.018571  3.118214   571.821429\n",
              "2             2  1.052632  13.719123  ...  1.070526  3.120175  1129.333333\n",
              "3             3  2.979592  13.151633  ...  0.685918  1.690204   627.551020\n",
              "\n",
              "[4 rows x 15 columns]"
            ]
          },
          "metadata": {
            "tags": []
          },
          "execution_count": 25
        }
      ]
    },
    {
      "cell_type": "code",
      "metadata": {
        "colab": {
          "base_uri": "https://localhost:8080/",
          "height": 418
        },
        "id": "HDgRWTyvMEjl",
        "outputId": "19acdbd1-9cf0-4afa-9c79-c51a737e65a9"
      },
      "source": [
        "wine"
      ],
      "execution_count": 26,
      "outputs": [
        {
          "output_type": "execute_result",
          "data": {
            "text/html": [
              "<div>\n",
              "<style scoped>\n",
              "    .dataframe tbody tr th:only-of-type {\n",
              "        vertical-align: middle;\n",
              "    }\n",
              "\n",
              "    .dataframe tbody tr th {\n",
              "        vertical-align: top;\n",
              "    }\n",
              "\n",
              "    .dataframe thead th {\n",
              "        text-align: right;\n",
              "    }\n",
              "</style>\n",
              "<table border=\"1\" class=\"dataframe\">\n",
              "  <thead>\n",
              "    <tr style=\"text-align: right;\">\n",
              "      <th></th>\n",
              "      <th>Type</th>\n",
              "      <th>Alcohol</th>\n",
              "      <th>Malic</th>\n",
              "      <th>Ash</th>\n",
              "      <th>Alcalinity</th>\n",
              "      <th>Magnesium</th>\n",
              "      <th>Phenols</th>\n",
              "      <th>Flavanoids</th>\n",
              "      <th>Nonflavanoids</th>\n",
              "      <th>Proanthocyanins</th>\n",
              "      <th>Color</th>\n",
              "      <th>Hue</th>\n",
              "      <th>Dilution</th>\n",
              "      <th>Proline</th>\n",
              "      <th>clusterid_new</th>\n",
              "    </tr>\n",
              "  </thead>\n",
              "  <tbody>\n",
              "    <tr>\n",
              "      <th>0</th>\n",
              "      <td>1</td>\n",
              "      <td>14.23</td>\n",
              "      <td>1.71</td>\n",
              "      <td>2.43</td>\n",
              "      <td>15.6</td>\n",
              "      <td>127</td>\n",
              "      <td>2.80</td>\n",
              "      <td>3.06</td>\n",
              "      <td>0.28</td>\n",
              "      <td>2.29</td>\n",
              "      <td>5.64</td>\n",
              "      <td>1.04</td>\n",
              "      <td>3.92</td>\n",
              "      <td>1065</td>\n",
              "      <td>2</td>\n",
              "    </tr>\n",
              "    <tr>\n",
              "      <th>1</th>\n",
              "      <td>1</td>\n",
              "      <td>13.20</td>\n",
              "      <td>1.78</td>\n",
              "      <td>2.14</td>\n",
              "      <td>11.2</td>\n",
              "      <td>100</td>\n",
              "      <td>2.65</td>\n",
              "      <td>2.76</td>\n",
              "      <td>0.26</td>\n",
              "      <td>1.28</td>\n",
              "      <td>4.38</td>\n",
              "      <td>1.05</td>\n",
              "      <td>3.40</td>\n",
              "      <td>1050</td>\n",
              "      <td>2</td>\n",
              "    </tr>\n",
              "    <tr>\n",
              "      <th>2</th>\n",
              "      <td>1</td>\n",
              "      <td>13.16</td>\n",
              "      <td>2.36</td>\n",
              "      <td>2.67</td>\n",
              "      <td>18.6</td>\n",
              "      <td>101</td>\n",
              "      <td>2.80</td>\n",
              "      <td>3.24</td>\n",
              "      <td>0.30</td>\n",
              "      <td>2.81</td>\n",
              "      <td>5.68</td>\n",
              "      <td>1.03</td>\n",
              "      <td>3.17</td>\n",
              "      <td>1185</td>\n",
              "      <td>2</td>\n",
              "    </tr>\n",
              "    <tr>\n",
              "      <th>3</th>\n",
              "      <td>1</td>\n",
              "      <td>14.37</td>\n",
              "      <td>1.95</td>\n",
              "      <td>2.50</td>\n",
              "      <td>16.8</td>\n",
              "      <td>113</td>\n",
              "      <td>3.85</td>\n",
              "      <td>3.49</td>\n",
              "      <td>0.24</td>\n",
              "      <td>2.18</td>\n",
              "      <td>7.80</td>\n",
              "      <td>0.86</td>\n",
              "      <td>3.45</td>\n",
              "      <td>1480</td>\n",
              "      <td>2</td>\n",
              "    </tr>\n",
              "    <tr>\n",
              "      <th>4</th>\n",
              "      <td>1</td>\n",
              "      <td>13.24</td>\n",
              "      <td>2.59</td>\n",
              "      <td>2.87</td>\n",
              "      <td>21.0</td>\n",
              "      <td>118</td>\n",
              "      <td>2.80</td>\n",
              "      <td>2.69</td>\n",
              "      <td>0.39</td>\n",
              "      <td>1.82</td>\n",
              "      <td>4.32</td>\n",
              "      <td>1.04</td>\n",
              "      <td>2.93</td>\n",
              "      <td>735</td>\n",
              "      <td>1</td>\n",
              "    </tr>\n",
              "    <tr>\n",
              "      <th>...</th>\n",
              "      <td>...</td>\n",
              "      <td>...</td>\n",
              "      <td>...</td>\n",
              "      <td>...</td>\n",
              "      <td>...</td>\n",
              "      <td>...</td>\n",
              "      <td>...</td>\n",
              "      <td>...</td>\n",
              "      <td>...</td>\n",
              "      <td>...</td>\n",
              "      <td>...</td>\n",
              "      <td>...</td>\n",
              "      <td>...</td>\n",
              "      <td>...</td>\n",
              "      <td>...</td>\n",
              "    </tr>\n",
              "    <tr>\n",
              "      <th>173</th>\n",
              "      <td>3</td>\n",
              "      <td>13.71</td>\n",
              "      <td>5.65</td>\n",
              "      <td>2.45</td>\n",
              "      <td>20.5</td>\n",
              "      <td>95</td>\n",
              "      <td>1.68</td>\n",
              "      <td>0.61</td>\n",
              "      <td>0.52</td>\n",
              "      <td>1.06</td>\n",
              "      <td>7.70</td>\n",
              "      <td>0.64</td>\n",
              "      <td>1.74</td>\n",
              "      <td>740</td>\n",
              "      <td>3</td>\n",
              "    </tr>\n",
              "    <tr>\n",
              "      <th>174</th>\n",
              "      <td>3</td>\n",
              "      <td>13.40</td>\n",
              "      <td>3.91</td>\n",
              "      <td>2.48</td>\n",
              "      <td>23.0</td>\n",
              "      <td>102</td>\n",
              "      <td>1.80</td>\n",
              "      <td>0.75</td>\n",
              "      <td>0.43</td>\n",
              "      <td>1.41</td>\n",
              "      <td>7.30</td>\n",
              "      <td>0.70</td>\n",
              "      <td>1.56</td>\n",
              "      <td>750</td>\n",
              "      <td>3</td>\n",
              "    </tr>\n",
              "    <tr>\n",
              "      <th>175</th>\n",
              "      <td>3</td>\n",
              "      <td>13.27</td>\n",
              "      <td>4.28</td>\n",
              "      <td>2.26</td>\n",
              "      <td>20.0</td>\n",
              "      <td>120</td>\n",
              "      <td>1.59</td>\n",
              "      <td>0.69</td>\n",
              "      <td>0.43</td>\n",
              "      <td>1.35</td>\n",
              "      <td>10.20</td>\n",
              "      <td>0.59</td>\n",
              "      <td>1.56</td>\n",
              "      <td>835</td>\n",
              "      <td>3</td>\n",
              "    </tr>\n",
              "    <tr>\n",
              "      <th>176</th>\n",
              "      <td>3</td>\n",
              "      <td>13.17</td>\n",
              "      <td>2.59</td>\n",
              "      <td>2.37</td>\n",
              "      <td>20.0</td>\n",
              "      <td>120</td>\n",
              "      <td>1.65</td>\n",
              "      <td>0.68</td>\n",
              "      <td>0.53</td>\n",
              "      <td>1.46</td>\n",
              "      <td>9.30</td>\n",
              "      <td>0.60</td>\n",
              "      <td>1.62</td>\n",
              "      <td>840</td>\n",
              "      <td>3</td>\n",
              "    </tr>\n",
              "    <tr>\n",
              "      <th>177</th>\n",
              "      <td>3</td>\n",
              "      <td>14.13</td>\n",
              "      <td>4.10</td>\n",
              "      <td>2.74</td>\n",
              "      <td>24.5</td>\n",
              "      <td>96</td>\n",
              "      <td>2.05</td>\n",
              "      <td>0.76</td>\n",
              "      <td>0.56</td>\n",
              "      <td>1.35</td>\n",
              "      <td>9.20</td>\n",
              "      <td>0.61</td>\n",
              "      <td>1.60</td>\n",
              "      <td>560</td>\n",
              "      <td>3</td>\n",
              "    </tr>\n",
              "  </tbody>\n",
              "</table>\n",
              "<p>178 rows × 15 columns</p>\n",
              "</div>"
            ],
            "text/plain": [
              "     Type  Alcohol  Malic   Ash  ...   Hue  Dilution  Proline  clusterid_new\n",
              "0       1    14.23   1.71  2.43  ...  1.04      3.92     1065              2\n",
              "1       1    13.20   1.78  2.14  ...  1.05      3.40     1050              2\n",
              "2       1    13.16   2.36  2.67  ...  1.03      3.17     1185              2\n",
              "3       1    14.37   1.95  2.50  ...  0.86      3.45     1480              2\n",
              "4       1    13.24   2.59  2.87  ...  1.04      2.93      735              1\n",
              "..    ...      ...    ...   ...  ...   ...       ...      ...            ...\n",
              "173     3    13.71   5.65  2.45  ...  0.64      1.74      740              3\n",
              "174     3    13.40   3.91  2.48  ...  0.70      1.56      750              3\n",
              "175     3    13.27   4.28  2.26  ...  0.59      1.56      835              3\n",
              "176     3    13.17   2.59  2.37  ...  0.60      1.62      840              3\n",
              "177     3    14.13   4.10  2.74  ...  0.61      1.60      560              3\n",
              "\n",
              "[178 rows x 15 columns]"
            ]
          },
          "metadata": {
            "tags": []
          },
          "execution_count": 26
        }
      ]
    }
  ]
}